{
 "cells": [
  {
   "cell_type": "markdown",
   "id": "8b05cf83-8f0c-4cf4-999e-e35c6e20e557",
   "metadata": {},
   "source": [
    "Sets and Dictionaries and Tuples"
   ]
  },
  {
   "cell_type": "code",
   "execution_count": 1,
   "id": "6d242fff-b9ba-4431-9dce-a00cd00fdab6",
   "metadata": {},
   "outputs": [],
   "source": [
    "#defining empty set"
   ]
  },
  {
   "cell_type": "code",
   "execution_count": 3,
   "id": "7458426c-6e11-4175-8a4a-41f9eaffbb1c",
   "metadata": {},
   "outputs": [
    {
     "name": "stdout",
     "output_type": "stream",
     "text": [
      "set()\n",
      "<class 'set'>\n"
     ]
    }
   ],
   "source": [
    "set_var = set()\n",
    "print(set_var)\n",
    "print(type(set_var))"
   ]
  },
  {
   "cell_type": "code",
   "execution_count": 5,
   "id": "2b8bb8be-1e83-457a-a4fa-668deb54ccb1",
   "metadata": {},
   "outputs": [],
   "source": [
    "set_var = {1,2,3,4,3}"
   ]
  },
  {
   "cell_type": "code",
   "execution_count": 6,
   "id": "1b3fcbe4-f3a1-4e4c-8484-631ce170e2e9",
   "metadata": {},
   "outputs": [
    {
     "name": "stdout",
     "output_type": "stream",
     "text": [
      "{1, 2, 3, 4}\n"
     ]
    }
   ],
   "source": [
    "print(set_var)"
   ]
  },
  {
   "cell_type": "code",
   "execution_count": 7,
   "id": "5e769ec8-13f8-4adc-b3b1-deec4ad7191d",
   "metadata": {},
   "outputs": [],
   "source": [
    "#no duplicate elements"
   ]
  },
  {
   "cell_type": "code",
   "execution_count": 8,
   "id": "de482ee2-c53a-48ea-9e6b-74dd81d88855",
   "metadata": {},
   "outputs": [
    {
     "data": {
      "text/plain": [
       "set"
      ]
     },
     "execution_count": 8,
     "metadata": {},
     "output_type": "execute_result"
    }
   ],
   "source": [
    "set_v = {\"Avengers\",\"iron man\",\"Batman\"}\n",
    "type(set_v)"
   ]
  },
  {
   "cell_type": "code",
   "execution_count": 9,
   "id": "03175c0a-1751-4580-add1-8b407bf026be",
   "metadata": {},
   "outputs": [],
   "source": [
    "set_v.add(\"Hulk\")"
   ]
  },
  {
   "cell_type": "code",
   "execution_count": 10,
   "id": "2c422f54-8e18-40be-9876-061ad700c770",
   "metadata": {},
   "outputs": [
    {
     "data": {
      "text/plain": [
       "{'Avengers', 'Batman', 'Hulk', 'iron man'}"
      ]
     },
     "execution_count": 10,
     "metadata": {},
     "output_type": "execute_result"
    }
   ],
   "source": [
    "set_v"
   ]
  },
  {
   "cell_type": "code",
   "execution_count": 12,
   "id": "cdf1810d-d0a6-42f8-87bc-13e9d2015932",
   "metadata": {},
   "outputs": [],
   "source": [
    "#set order ke patta dey na ,ja ichha order e return kore"
   ]
  },
  {
   "cell_type": "code",
   "execution_count": 13,
   "id": "9b28e323-e45d-43f6-b8f6-38b50551aef5",
   "metadata": {},
   "outputs": [
    {
     "data": {
      "text/plain": [
       "{5, 6}"
      ]
     },
     "execution_count": 13,
     "metadata": {},
     "output_type": "execute_result"
    }
   ],
   "source": [
    "set1 = {1,2,3,4}\n",
    "set2 = {3,4,5,6}\n",
    "set2.difference(set1)"
   ]
  },
  {
   "cell_type": "code",
   "execution_count": 14,
   "id": "6b6fcf63-7ade-4288-8b5a-cc09edbcb5df",
   "metadata": {},
   "outputs": [],
   "source": [
    "#returns the part missing in set1 but present in set2"
   ]
  },
  {
   "cell_type": "code",
   "execution_count": 15,
   "id": "422b9dc8-9b3b-4f24-a154-a2c0a33c7471",
   "metadata": {},
   "outputs": [],
   "source": [
    "#we can do union, intersection"
   ]
  },
  {
   "cell_type": "code",
   "execution_count": 16,
   "id": "963736c2-34f2-4653-aad9-5d5f565608cd",
   "metadata": {},
   "outputs": [
    {
     "data": {
      "text/plain": [
       "{3, 4, 5, 6}"
      ]
     },
     "execution_count": 16,
     "metadata": {},
     "output_type": "execute_result"
    }
   ],
   "source": [
    "set2"
   ]
  },
  {
   "cell_type": "code",
   "execution_count": 17,
   "id": "1cef74a2-470b-42fa-b70f-2e04be3736a6",
   "metadata": {},
   "outputs": [],
   "source": [
    "set2.difference_update(set1)"
   ]
  },
  {
   "cell_type": "code",
   "execution_count": 18,
   "id": "b564f348-7b4c-4d10-8ac7-24c0dbee7b48",
   "metadata": {},
   "outputs": [
    {
     "name": "stdout",
     "output_type": "stream",
     "text": [
      "{5, 6}\n"
     ]
    }
   ],
   "source": [
    "print(set2)"
   ]
  },
  {
   "cell_type": "code",
   "execution_count": 19,
   "id": "93159a2d-47d7-4cb1-a7c9-86ed4a8337f6",
   "metadata": {},
   "outputs": [],
   "source": [
    "#difference update and interesection update , updates the first set in the line of code"
   ]
  },
  {
   "cell_type": "code",
   "execution_count": 20,
   "id": "fab4e77a-ea89-41cf-89f7-5948a3521791",
   "metadata": {},
   "outputs": [
    {
     "ename": "TypeError",
     "evalue": "set.add() takes exactly one argument (3 given)",
     "output_type": "error",
     "traceback": [
      "\u001b[1;31m---------------------------------------------------------------------------\u001b[0m",
      "\u001b[1;31mTypeError\u001b[0m                                 Traceback (most recent call last)",
      "Cell \u001b[1;32mIn[20], line 1\u001b[0m\n\u001b[1;32m----> 1\u001b[0m set2\u001b[38;5;241m.\u001b[39madd(\u001b[38;5;241m1\u001b[39m,\u001b[38;5;241m2\u001b[39m,\u001b[38;5;241m3\u001b[39m)\n",
      "\u001b[1;31mTypeError\u001b[0m: set.add() takes exactly one argument (3 given)"
     ]
    }
   ],
   "source": [
    "set2.add(1,2,3)"
   ]
  },
  {
   "cell_type": "code",
   "execution_count": 21,
   "id": "db714efb-26a3-4c6e-833b-63c8f6264565",
   "metadata": {},
   "outputs": [
    {
     "ename": "TypeError",
     "evalue": "unhashable type: 'set'",
     "output_type": "error",
     "traceback": [
      "\u001b[1;31m---------------------------------------------------------------------------\u001b[0m",
      "\u001b[1;31mTypeError\u001b[0m                                 Traceback (most recent call last)",
      "Cell \u001b[1;32mIn[21], line 1\u001b[0m\n\u001b[1;32m----> 1\u001b[0m set2\u001b[38;5;241m.\u001b[39madd({\u001b[38;5;241m1\u001b[39m,\u001b[38;5;241m2\u001b[39m,\u001b[38;5;241m3\u001b[39m})\n",
      "\u001b[1;31mTypeError\u001b[0m: unhashable type: 'set'"
     ]
    }
   ],
   "source": [
    "set2.add({1,2,3})"
   ]
  },
  {
   "cell_type": "code",
   "execution_count": 22,
   "id": "30cbe123-1dcb-4947-a632-24d16a4b5e91",
   "metadata": {},
   "outputs": [],
   "source": [
    "#keep in mind above errors"
   ]
  },
  {
   "cell_type": "markdown",
   "id": "1769f419-88f2-417b-a1bd-d3eaddd8ebfe",
   "metadata": {},
   "source": [
    "Dictionaries"
   ]
  },
  {
   "cell_type": "code",
   "execution_count": 23,
   "id": "7551f285-985d-4f1a-84bd-d52b209de843",
   "metadata": {},
   "outputs": [],
   "source": [
    "dict = {}"
   ]
  },
  {
   "cell_type": "code",
   "execution_count": 24,
   "id": "6c8af6ea-8a07-42b1-9a0d-74222bca9d72",
   "metadata": {},
   "outputs": [],
   "source": [
    "#in dict we have key values but in set we have elements"
   ]
  },
  {
   "cell_type": "code",
   "execution_count": 25,
   "id": "6c993145-59eb-4dc6-8ee6-072966185997",
   "metadata": {},
   "outputs": [],
   "source": [
    "dict = {'car1':'Audi'\n",
    "       ,'car2':'BMW',\n",
    "       'car3':'Merc',}"
   ]
  },
  {
   "cell_type": "code",
   "execution_count": 26,
   "id": "0c0ba70c-b709-4b70-b812-0dc6491ee524",
   "metadata": {},
   "outputs": [
    {
     "ename": "NameError",
     "evalue": "name 'car1' is not defined",
     "output_type": "error",
     "traceback": [
      "\u001b[1;31m---------------------------------------------------------------------------\u001b[0m",
      "\u001b[1;31mNameError\u001b[0m                                 Traceback (most recent call last)",
      "Cell \u001b[1;32mIn[26], line 1\u001b[0m\n\u001b[1;32m----> 1\u001b[0m \u001b[38;5;28mdict\u001b[39m[car1]\n",
      "\u001b[1;31mNameError\u001b[0m: name 'car1' is not defined"
     ]
    }
   ],
   "source": [
    "dict[car1]"
   ]
  },
  {
   "cell_type": "code",
   "execution_count": 27,
   "id": "baab39f5-4c8d-43b2-b7a1-fae0cac68782",
   "metadata": {},
   "outputs": [
    {
     "data": {
      "text/plain": [
       "'Audi'"
      ]
     },
     "execution_count": 27,
     "metadata": {},
     "output_type": "execute_result"
    }
   ],
   "source": [
    "dict['car1']"
   ]
  },
  {
   "cell_type": "code",
   "execution_count": 28,
   "id": "b8479e34-6e63-416a-bb6d-4cee0ae054b1",
   "metadata": {},
   "outputs": [],
   "source": [
    "#car1 is key, audi is value"
   ]
  },
  {
   "cell_type": "code",
   "execution_count": 29,
   "id": "26e17e67-00a0-4023-b47c-28441ba07308",
   "metadata": {},
   "outputs": [
    {
     "name": "stdout",
     "output_type": "stream",
     "text": [
      "car1\n",
      "car2\n",
      "car3\n"
     ]
    }
   ],
   "source": [
    "for x in dict:  #iterating through keys\n",
    "    print(x)"
   ]
  },
  {
   "cell_type": "code",
   "execution_count": 30,
   "id": "39013125-e77c-4ec6-a33e-856ebc23b4df",
   "metadata": {},
   "outputs": [
    {
     "name": "stdout",
     "output_type": "stream",
     "text": [
      "Audi\n",
      "BMW\n",
      "Merc\n"
     ]
    }
   ],
   "source": [
    "for x in dict.values():  #iterates through values\n",
    "    print(x)"
   ]
  },
  {
   "cell_type": "code",
   "execution_count": 31,
   "id": "fedc210f-e24f-4a1e-97db-930564a3d01a",
   "metadata": {},
   "outputs": [
    {
     "name": "stdout",
     "output_type": "stream",
     "text": [
      "('car1', 'Audi')\n",
      "('car2', 'BMW')\n",
      "('car3', 'Merc')\n"
     ]
    }
   ],
   "source": [
    "for x in dict.items():\n",
    "    print(x)"
   ]
  },
  {
   "cell_type": "code",
   "execution_count": 32,
   "id": "69020dc7-536e-4aef-a587-6f8a08d8c15b",
   "metadata": {},
   "outputs": [],
   "source": [
    "dict['car4'] = 'Fiat'"
   ]
  },
  {
   "cell_type": "code",
   "execution_count": 33,
   "id": "a9845d77-4882-4f8d-b369-6da17df1c376",
   "metadata": {},
   "outputs": [
    {
     "data": {
      "text/plain": [
       "{'car1': 'Audi', 'car2': 'BMW', 'car3': 'Merc', 'car4': 'Fiat'}"
      ]
     },
     "execution_count": 33,
     "metadata": {},
     "output_type": "execute_result"
    }
   ],
   "source": [
    "dict"
   ]
  },
  {
   "cell_type": "code",
   "execution_count": 34,
   "id": "df03f8fc-bf32-47ec-a08b-3ddc30b23c08",
   "metadata": {},
   "outputs": [],
   "source": [
    "dict['car1'] = 'Mazda' #replaced with Mazda overwritten"
   ]
  },
  {
   "cell_type": "code",
   "execution_count": 35,
   "id": "441c601f-8dd6-40d5-842e-59cf3955f142",
   "metadata": {},
   "outputs": [
    {
     "data": {
      "text/plain": [
       "{'car1': 'Mazda', 'car2': 'BMW', 'car3': 'Merc', 'car4': 'Fiat'}"
      ]
     },
     "execution_count": 35,
     "metadata": {},
     "output_type": "execute_result"
    }
   ],
   "source": [
    "dict"
   ]
  },
  {
   "cell_type": "markdown",
   "id": "3803e8e0-69d6-4dfc-80f2-c10cb32492b0",
   "metadata": {},
   "source": [
    "Nested dictionary"
   ]
  },
  {
   "cell_type": "code",
   "execution_count": 36,
   "id": "869f63fb-d854-4cde-b013-5d8dc4dda4c5",
   "metadata": {},
   "outputs": [],
   "source": [
    "car1_model = {'mercedes':1960}\n",
    "car2_model = {'Audi':1985}\n",
    "car3_model = {'BMW':1999}"
   ]
  },
  {
   "cell_type": "code",
   "execution_count": 37,
   "id": "8656c5e8-55f7-45b0-b16b-4f95fb5947fa",
   "metadata": {},
   "outputs": [],
   "source": [
    "car_type = {'car1':car1_model,'car2':car2_model,'car3':car3_model}"
   ]
  },
  {
   "cell_type": "code",
   "execution_count": 38,
   "id": "f992eabc-1503-4f93-99a6-53cafb571875",
   "metadata": {},
   "outputs": [
    {
     "name": "stdout",
     "output_type": "stream",
     "text": [
      "{'mercedes': 1960}\n"
     ]
    }
   ],
   "source": [
    "print(car_type['car1'])"
   ]
  },
  {
   "cell_type": "code",
   "execution_count": 39,
   "id": "9ddb971b-c382-48db-a322-05ec58e0f1ad",
   "metadata": {},
   "outputs": [
    {
     "name": "stdout",
     "output_type": "stream",
     "text": [
      "1960\n"
     ]
    }
   ],
   "source": [
    "print(car_type['car1']['mercedes'])"
   ]
  },
  {
   "cell_type": "code",
   "execution_count": 40,
   "id": "6f3d1916-7fba-45c6-90a5-65bd3774f23e",
   "metadata": {},
   "outputs": [],
   "source": [
    "#above is dictionary as value inside another dictionary"
   ]
  },
  {
   "cell_type": "markdown",
   "id": "4c7afd80-5aa7-423b-b9b0-3c3e3311f834",
   "metadata": {},
   "source": [
    "Tuple"
   ]
  },
  {
   "cell_type": "code",
   "execution_count": 41,
   "id": "52734195-bd85-428a-a654-4e168de29598",
   "metadata": {},
   "outputs": [],
   "source": [
    "mytup = ()"
   ]
  },
  {
   "cell_type": "code",
   "execution_count": 42,
   "id": "ee9b9e3f-e3b8-44f8-b68c-1e3eeba29ea8",
   "metadata": {},
   "outputs": [
    {
     "data": {
      "text/plain": [
       "tuple"
      ]
     },
     "execution_count": 42,
     "metadata": {},
     "output_type": "execute_result"
    }
   ],
   "source": [
    "type(mytup)"
   ]
  },
  {
   "cell_type": "code",
   "execution_count": 43,
   "id": "c4f3918f-bb9f-49ca-9d23-4fca9fbc2d8f",
   "metadata": {},
   "outputs": [],
   "source": [
    "mytup = ('Srijit',24)"
   ]
  },
  {
   "cell_type": "code",
   "execution_count": 44,
   "id": "70d99d4c-653a-4d71-b5b8-d0ac99326b1d",
   "metadata": {},
   "outputs": [],
   "source": [
    "#immutable"
   ]
  },
  {
   "cell_type": "code",
   "execution_count": 45,
   "id": "19f631a8-d038-4cf3-b9ac-f95fbb76946b",
   "metadata": {},
   "outputs": [
    {
     "data": {
      "text/plain": [
       "1"
      ]
     },
     "execution_count": 45,
     "metadata": {},
     "output_type": "execute_result"
    }
   ],
   "source": [
    "mytup.count(24)"
   ]
  },
  {
   "cell_type": "code",
   "execution_count": 46,
   "id": "79e2534f-9339-479f-9196-1b7979cb5106",
   "metadata": {},
   "outputs": [],
   "source": [
    "#used in fuctions where an object value is needed only once"
   ]
  },
  {
   "cell_type": "code",
   "execution_count": null,
   "id": "555be936-0ff0-4cbd-b382-03adf1fce988",
   "metadata": {},
   "outputs": [],
   "source": []
  }
 ],
 "metadata": {
  "kernelspec": {
   "display_name": "Python 3 (ipykernel)",
   "language": "python",
   "name": "python3"
  },
  "language_info": {
   "codemirror_mode": {
    "name": "ipython",
    "version": 3
   },
   "file_extension": ".py",
   "mimetype": "text/x-python",
   "name": "python",
   "nbconvert_exporter": "python",
   "pygments_lexer": "ipython3",
   "version": "3.11.7"
  }
 },
 "nbformat": 4,
 "nbformat_minor": 5
}
