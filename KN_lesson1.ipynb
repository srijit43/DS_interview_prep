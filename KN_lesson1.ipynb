{
 "cells": [
  {
   "cell_type": "markdown",
   "id": "23f808f7-fbfb-403c-bb20-86f3e6caf8b2",
   "metadata": {},
   "source": [
    "Boolean"
   ]
  },
  {
   "cell_type": "code",
   "execution_count": 1,
   "id": "ac709c53-6581-4efc-954b-c45100008c24",
   "metadata": {},
   "outputs": [
    {
     "name": "stdout",
     "output_type": "stream",
     "text": [
      "True False\n"
     ]
    }
   ],
   "source": [
    "print(True, False)"
   ]
  },
  {
   "cell_type": "code",
   "execution_count": 2,
   "id": "725a9f12-4fec-4f64-aaa1-1b23a8d428ba",
   "metadata": {},
   "outputs": [
    {
     "data": {
      "text/plain": [
       "bool"
      ]
     },
     "execution_count": 2,
     "metadata": {},
     "output_type": "execute_result"
    }
   ],
   "source": [
    "type(True)"
   ]
  },
  {
   "cell_type": "code",
   "execution_count": 3,
   "id": "8ec3c729-a9f0-4a20-b95a-583a1dcc549b",
   "metadata": {},
   "outputs": [],
   "source": [
    "mystr = 'Srijit'"
   ]
  },
  {
   "cell_type": "code",
   "execution_count": 4,
   "id": "507fc8aa-1eb7-4f2c-b4c7-32fc5b32282e",
   "metadata": {},
   "outputs": [
    {
     "name": "stdout",
     "output_type": "stream",
     "text": [
      "True\n"
     ]
    }
   ],
   "source": [
    "print(mystr.istitle())"
   ]
  },
  {
   "cell_type": "code",
   "execution_count": 5,
   "id": "43ba2a15-25b7-4e1f-9786-a08cac39a915",
   "metadata": {},
   "outputs": [
    {
     "name": "stdout",
     "output_type": "stream",
     "text": [
      "True\n"
     ]
    }
   ],
   "source": [
    "print(mystr.isalpha())"
   ]
  },
  {
   "cell_type": "code",
   "execution_count": 6,
   "id": "afed6f89-b9bd-448d-98ca-da437aea9824",
   "metadata": {},
   "outputs": [
    {
     "name": "stdout",
     "output_type": "stream",
     "text": [
      "True\n"
     ]
    }
   ],
   "source": [
    "print(mystr.isalnum())"
   ]
  },
  {
   "cell_type": "code",
   "execution_count": 8,
   "id": "82d91470-6195-4a89-9ab1-ed02cefe3a52",
   "metadata": {},
   "outputs": [
    {
     "name": "stdout",
     "output_type": "stream",
     "text": [
      "False\n"
     ]
    }
   ],
   "source": [
    "print(mystr.islower())"
   ]
  },
  {
   "cell_type": "code",
   "execution_count": 9,
   "id": "39d58206-884a-4c20-9fc6-bb5e7af7a5ab",
   "metadata": {},
   "outputs": [],
   "source": [
    "##this above is some exa,ple of boolean data type"
   ]
  },
  {
   "cell_type": "code",
   "execution_count": 11,
   "id": "d2386cfa-1f8f-4c50-96ce-a92b2c195d06",
   "metadata": {},
   "outputs": [
    {
     "data": {
      "text/plain": [
       "True"
      ]
     },
     "execution_count": 11,
     "metadata": {},
     "output_type": "execute_result"
    }
   ],
   "source": [
    "mystr.islower() or mystr.isalpha()  #complex logic"
   ]
  },
  {
   "cell_type": "markdown",
   "id": "0fd56966-27a8-4105-abf7-12dbf2c35d6d",
   "metadata": {},
   "source": [
    "List"
   ]
  },
  {
   "cell_type": "code",
   "execution_count": 12,
   "id": "c6ef70a8-0a6d-49a1-91d6-3969fc11251e",
   "metadata": {},
   "outputs": [],
   "source": [
    "#mutable changeable order of items. Collection of homo or heterogenous items"
   ]
  },
  {
   "cell_type": "code",
   "execution_count": 13,
   "id": "86f5e956-1dbc-481f-943d-f3c27bcbac1f",
   "metadata": {},
   "outputs": [
    {
     "data": {
      "text/plain": [
       "list"
      ]
     },
     "execution_count": 13,
     "metadata": {},
     "output_type": "execute_result"
    }
   ],
   "source": [
    "type([])"
   ]
  },
  {
   "cell_type": "code",
   "execution_count": 16,
   "id": "b2d02aab-90d2-4165-af50-c4d822cf8367",
   "metadata": {},
   "outputs": [
    {
     "data": {
      "text/plain": [
       "list"
      ]
     },
     "execution_count": 16,
     "metadata": {},
     "output_type": "execute_result"
    }
   ],
   "source": [
    "list_exmpl = []\n",
    "type(list_exmpl)"
   ]
  },
  {
   "cell_type": "code",
   "execution_count": 17,
   "id": "0be2502c-0bf9-4bd6-8a8f-93e4ea76549b",
   "metadata": {},
   "outputs": [],
   "source": [
    "lst = ['Math','Chem',100,93]"
   ]
  },
  {
   "cell_type": "code",
   "execution_count": 19,
   "id": "05a5b172-a99e-4925-91fd-404de1f626fe",
   "metadata": {},
   "outputs": [],
   "source": [
    "lst.append('Srijit') #use shift tab to see what it does"
   ]
  },
  {
   "cell_type": "code",
   "execution_count": 20,
   "id": "97fdc10d-e297-4874-8b08-50b4c77c46bf",
   "metadata": {},
   "outputs": [
    {
     "data": {
      "text/plain": [
       "['Math', 'Chem', 100, 93, 'Srijit', 'Srijit']"
      ]
     },
     "execution_count": 20,
     "metadata": {},
     "output_type": "execute_result"
    }
   ],
   "source": [
    "lst"
   ]
  },
  {
   "cell_type": "code",
   "execution_count": 21,
   "id": "715718cd-9556-4393-8238-ffcbc7563c78",
   "metadata": {},
   "outputs": [],
   "source": [
    "lst.insert(1,'Precious')"
   ]
  },
  {
   "cell_type": "code",
   "execution_count": 22,
   "id": "864c9d09-67ac-4a0d-b6bf-2627e0817893",
   "metadata": {},
   "outputs": [
    {
     "data": {
      "text/plain": [
       "['Math', 'Precious', 'Chem', 100, 93, 'Srijit', 'Srijit']"
      ]
     },
     "execution_count": 22,
     "metadata": {},
     "output_type": "execute_result"
    }
   ],
   "source": [
    "lst"
   ]
  },
  {
   "cell_type": "code",
   "execution_count": 24,
   "id": "8c289a4d-99e5-46a7-bfda-1f3be31aa33c",
   "metadata": {},
   "outputs": [],
   "source": [
    "lst.remove('Math')"
   ]
  },
  {
   "cell_type": "code",
   "execution_count": 25,
   "id": "099ff078-da57-4817-9603-94ec383e0e06",
   "metadata": {},
   "outputs": [
    {
     "data": {
      "text/plain": [
       "['Precious', 'Chem', 100, 93, 'Srijit', 'Srijit']"
      ]
     },
     "execution_count": 25,
     "metadata": {},
     "output_type": "execute_result"
    }
   ],
   "source": [
    "lst"
   ]
  },
  {
   "cell_type": "code",
   "execution_count": 26,
   "id": "bfb1bd38-91d5-4d04-88ec-86b179395342",
   "metadata": {},
   "outputs": [
    {
     "data": {
      "text/plain": [
       "['Precious', 'Chem', 100, 93, 'Srijit', 'Srijit']"
      ]
     },
     "execution_count": 26,
     "metadata": {},
     "output_type": "execute_result"
    }
   ],
   "source": [
    "lst[:] #picks all up. Write index on left where you want to pick up"
   ]
  },
  {
   "cell_type": "code",
   "execution_count": 27,
   "id": "d92f2897-679c-4d7b-ad50-586420b7f27e",
   "metadata": {},
   "outputs": [
    {
     "data": {
      "text/plain": [
       "['Chem', 100, 93]"
      ]
     },
     "execution_count": 27,
     "metadata": {},
     "output_type": "execute_result"
    }
   ],
   "source": [
    "lst[1:4] #picks 1 , 2 ,3 "
   ]
  },
  {
   "cell_type": "code",
   "execution_count": 28,
   "id": "c07df6fc-a840-4634-a510-ad4fb1271f9c",
   "metadata": {},
   "outputs": [],
   "source": [
    "lst.append(['Home','Away'])"
   ]
  },
  {
   "cell_type": "code",
   "execution_count": 29,
   "id": "945c12d4-60ea-407b-b756-fb14ea615826",
   "metadata": {},
   "outputs": [
    {
     "data": {
      "text/plain": [
       "['Precious', 'Chem', 100, 93, 'Srijit', 'Srijit', ['Home', 'Away']]"
      ]
     },
     "execution_count": 29,
     "metadata": {},
     "output_type": "execute_result"
    }
   ],
   "source": [
    "lst"
   ]
  },
  {
   "cell_type": "code",
   "execution_count": 30,
   "id": "b9ed9e6e-bf6e-4fbd-bcda-2056903da6a3",
   "metadata": {},
   "outputs": [],
   "source": [
    "#appned by default adds on the last index"
   ]
  },
  {
   "cell_type": "code",
   "execution_count": 31,
   "id": "b7b0bd56-0f98-4f80-ac6a-efda13adb71b",
   "metadata": {},
   "outputs": [],
   "source": [
    "lst.insert(2,'America')"
   ]
  },
  {
   "cell_type": "code",
   "execution_count": 32,
   "id": "42d62e82-e2d1-46db-8bd9-ad30ea28b058",
   "metadata": {},
   "outputs": [
    {
     "data": {
      "text/plain": [
       "['Precious', 'Chem', 'America', 100, 93, 'Srijit', 'Srijit', ['Home', 'Away']]"
      ]
     },
     "execution_count": 32,
     "metadata": {},
     "output_type": "execute_result"
    }
   ],
   "source": [
    "lst"
   ]
  },
  {
   "cell_type": "code",
   "execution_count": 36,
   "id": "a51c055f-fc6d-4960-90cb-5e942bc7b60a",
   "metadata": {},
   "outputs": [],
   "source": [
    "list = [1,2,3]\n",
    "list.extend([4,5]) #adds to the list but not as a list -- used to add multiple elements\n"
   ]
  },
  {
   "cell_type": "code",
   "execution_count": 34,
   "id": "0c2784c1-feb1-4d94-a8c8-fc62488667af",
   "metadata": {},
   "outputs": [
    {
     "data": {
      "text/plain": [
       "['Precious', 'Chem', 'America', 100, 93, 'Srijit', 'Srijit', ['Home', 'Away']]"
      ]
     },
     "execution_count": 34,
     "metadata": {},
     "output_type": "execute_result"
    }
   ],
   "source": [
    "lst"
   ]
  },
  {
   "cell_type": "code",
   "execution_count": 37,
   "id": "4a121395-6625-458d-b14d-71fcc32e9d33",
   "metadata": {},
   "outputs": [
    {
     "data": {
      "text/plain": [
       "[1, 2, 3, 4, 5]"
      ]
     },
     "execution_count": 37,
     "metadata": {},
     "output_type": "execute_result"
    }
   ],
   "source": [
    "list"
   ]
  },
  {
   "cell_type": "code",
   "execution_count": 38,
   "id": "335bc22c-10a5-4571-bff6-1aaf4358567c",
   "metadata": {},
   "outputs": [
    {
     "data": {
      "text/plain": [
       "15"
      ]
     },
     "execution_count": 38,
     "metadata": {},
     "output_type": "execute_result"
    }
   ],
   "source": [
    "sum(list)"
   ]
  },
  {
   "cell_type": "code",
   "execution_count": 39,
   "id": "fa866b4f-5bd3-4ddc-9034-91ef9e84c482",
   "metadata": {},
   "outputs": [
    {
     "data": {
      "text/plain": [
       "['Home', 'Away']"
      ]
     },
     "execution_count": 39,
     "metadata": {},
     "output_type": "execute_result"
    }
   ],
   "source": [
    "lst.pop() #removes last element"
   ]
  },
  {
   "cell_type": "code",
   "execution_count": 40,
   "id": "de2dbfe8-50ba-494e-b298-7dbd5ebbe7d6",
   "metadata": {},
   "outputs": [
    {
     "data": {
      "text/plain": [
       "5"
      ]
     },
     "execution_count": 40,
     "metadata": {},
     "output_type": "execute_result"
    }
   ],
   "source": [
    "list.pop()"
   ]
  },
  {
   "cell_type": "code",
   "execution_count": 41,
   "id": "a94da805-5055-4cbd-8ff7-956949c0013a",
   "metadata": {},
   "outputs": [
    {
     "data": {
      "text/plain": [
       "1"
      ]
     },
     "execution_count": 41,
     "metadata": {},
     "output_type": "execute_result"
    }
   ],
   "source": [
    "list.count(1) #count of the item in the list"
   ]
  },
  {
   "cell_type": "code",
   "execution_count": 42,
   "id": "dd42e3b6-76e9-4ea9-9617-cfe59eef4fc8",
   "metadata": {},
   "outputs": [
    {
     "data": {
      "text/plain": [
       "4"
      ]
     },
     "execution_count": 42,
     "metadata": {},
     "output_type": "execute_result"
    }
   ],
   "source": [
    "len(list)  #length of list"
   ]
  },
  {
   "cell_type": "code",
   "execution_count": 43,
   "id": "7e829169-d767-49da-9fca-6f2b0555422b",
   "metadata": {},
   "outputs": [
    {
     "data": {
      "text/plain": [
       "4"
      ]
     },
     "execution_count": 43,
     "metadata": {},
     "output_type": "execute_result"
    }
   ],
   "source": [
    "max(list)"
   ]
  },
  {
   "cell_type": "code",
   "execution_count": null,
   "id": "36e4858a-db32-4fc1-bd71-10a3348b5bc6",
   "metadata": {},
   "outputs": [],
   "source": []
  }
 ],
 "metadata": {
  "kernelspec": {
   "display_name": "Python 3 (ipykernel)",
   "language": "python",
   "name": "python3"
  },
  "language_info": {
   "codemirror_mode": {
    "name": "ipython",
    "version": 3
   },
   "file_extension": ".py",
   "mimetype": "text/x-python",
   "name": "python",
   "nbconvert_exporter": "python",
   "pygments_lexer": "ipython3",
   "version": "3.11.7"
  }
 },
 "nbformat": 4,
 "nbformat_minor": 5
}
