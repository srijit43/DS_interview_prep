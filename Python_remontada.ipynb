{
  "nbformat": 4,
  "nbformat_minor": 0,
  "metadata": {
    "colab": {
      "provenance": [],
      "authorship_tag": "ABX9TyNKosVXP+VL/QH7KNLBL1Ad",
      "include_colab_link": true
    },
    "kernelspec": {
      "name": "python3",
      "display_name": "Python 3"
    },
    "language_info": {
      "name": "python"
    }
  },
  "cells": [
    {
      "cell_type": "markdown",
      "metadata": {
        "id": "view-in-github",
        "colab_type": "text"
      },
      "source": [
        "<a href=\"https://colab.research.google.com/github/srijit43/DS_interview_prep/blob/main/Python_remontada.ipynb\" target=\"_parent\"><img src=\"https://colab.research.google.com/assets/colab-badge.svg\" alt=\"Open In Colab\"/></a>"
      ]
    },
    {
      "cell_type": "code",
      "execution_count": null,
      "metadata": {
        "id": "2rqBIEG5WSsU"
      },
      "outputs": [],
      "source": [
        "x = 'hello world'"
      ]
    },
    {
      "cell_type": "code",
      "source": [
        "type(x)"
      ],
      "metadata": {
        "colab": {
          "base_uri": "https://localhost:8080/"
        },
        "id": "zrHoDm6lYEce",
        "outputId": "afc28fc9-60c4-452b-ae90-7ae30f295bc7"
      },
      "execution_count": null,
      "outputs": [
        {
          "output_type": "execute_result",
          "data": {
            "text/plain": [
              "str"
            ]
          },
          "metadata": {},
          "execution_count": 3
        }
      ]
    },
    {
      "cell_type": "code",
      "source": [
        "type(3)"
      ],
      "metadata": {
        "colab": {
          "base_uri": "https://localhost:8080/"
        },
        "id": "5sZYQKGLYKsL",
        "outputId": "f82dc428-c46c-47c3-dab0-c850edcf4b74"
      },
      "execution_count": null,
      "outputs": [
        {
          "output_type": "execute_result",
          "data": {
            "text/plain": [
              "int"
            ]
          },
          "metadata": {},
          "execution_count": 4
        }
      ]
    },
    {
      "cell_type": "code",
      "source": [
        "type(3.2)"
      ],
      "metadata": {
        "colab": {
          "base_uri": "https://localhost:8080/"
        },
        "id": "ISO45JCjaa65",
        "outputId": "c496ded2-a6fd-4b36-afef-9e463d21f2c9"
      },
      "execution_count": null,
      "outputs": [
        {
          "output_type": "execute_result",
          "data": {
            "text/plain": [
              "float"
            ]
          },
          "metadata": {},
          "execution_count": 5
        }
      ]
    },
    {
      "cell_type": "code",
      "source": [
        "type(4+2)"
      ],
      "metadata": {
        "colab": {
          "base_uri": "https://localhost:8080/"
        },
        "id": "khIkFt0cab7U",
        "outputId": "4006bae5-8900-48c3-a87b-6853c9a42a1f"
      },
      "execution_count": null,
      "outputs": [
        {
          "output_type": "execute_result",
          "data": {
            "text/plain": [
              "int"
            ]
          },
          "metadata": {},
          "execution_count": 6
        }
      ]
    },
    {
      "cell_type": "code",
      "source": [
        "type(4/3)"
      ],
      "metadata": {
        "colab": {
          "base_uri": "https://localhost:8080/"
        },
        "id": "ljZ121pcakDk",
        "outputId": "55337cc5-e8f9-4388-ba27-2f3181e4ac7c"
      },
      "execution_count": null,
      "outputs": [
        {
          "output_type": "execute_result",
          "data": {
            "text/plain": [
              "float"
            ]
          },
          "metadata": {},
          "execution_count": 7
        }
      ]
    },
    {
      "cell_type": "code",
      "source": [
        "3//2 #how many times 2 goes in 3"
      ],
      "metadata": {
        "id": "dOredDU0a60f",
        "colab": {
          "base_uri": "https://localhost:8080/"
        },
        "outputId": "e1541d13-7e53-4956-950a-4e852a869c28"
      },
      "execution_count": null,
      "outputs": [
        {
          "output_type": "execute_result",
          "data": {
            "text/plain": [
              "1"
            ]
          },
          "metadata": {},
          "execution_count": 2
        }
      ]
    },
    {
      "cell_type": "code",
      "source": [
        "5%2  #remainder"
      ],
      "metadata": {
        "colab": {
          "base_uri": "https://localhost:8080/"
        },
        "id": "cD7YcjVdu5bj",
        "outputId": "7301e280-f1f5-4ffb-b381-3c19fd50d1dc"
      },
      "execution_count": null,
      "outputs": [
        {
          "output_type": "execute_result",
          "data": {
            "text/plain": [
              "1"
            ]
          },
          "metadata": {},
          "execution_count": 4
        }
      ]
    },
    {
      "cell_type": "code",
      "source": [
        "print"
      ],
      "metadata": {
        "colab": {
          "base_uri": "https://localhost:8080/"
        },
        "id": "7EW5SyG9u-si",
        "outputId": "7d23ae7e-b3ab-440b-dc75-b98fd36d652a"
      },
      "execution_count": null,
      "outputs": [
        {
          "output_type": "execute_result",
          "data": {
            "text/plain": [
              "<function print>"
            ]
          },
          "metadata": {},
          "execution_count": 5
        }
      ]
    },
    {
      "cell_type": "code",
      "source": [
        "#boolean is a data type"
      ],
      "metadata": {
        "id": "EjwAIiKYvlLM"
      },
      "execution_count": null,
      "outputs": []
    },
    {
      "cell_type": "code",
      "source": [
        "7>4"
      ],
      "metadata": {
        "colab": {
          "base_uri": "https://localhost:8080/"
        },
        "id": "AARPcd2dx7F4",
        "outputId": "aac541df-10a9-4362-af33-a8af7db085f0"
      },
      "execution_count": null,
      "outputs": [
        {
          "output_type": "execute_result",
          "data": {
            "text/plain": [
              "True"
            ]
          },
          "metadata": {},
          "execution_count": 8
        }
      ]
    },
    {
      "cell_type": "code",
      "source": [
        "7 == 7"
      ],
      "metadata": {
        "colab": {
          "base_uri": "https://localhost:8080/"
        },
        "id": "HnEhJ9eIx9-5",
        "outputId": "16b9adc7-625f-4bf0-f1a9-c67dd61205fb"
      },
      "execution_count": null,
      "outputs": [
        {
          "output_type": "execute_result",
          "data": {
            "text/plain": [
              "True"
            ]
          },
          "metadata": {},
          "execution_count": 9
        }
      ]
    },
    {
      "cell_type": "code",
      "source": [
        "7 == 8"
      ],
      "metadata": {
        "colab": {
          "base_uri": "https://localhost:8080/"
        },
        "id": "yQecMVe-yBYG",
        "outputId": "83561288-3773-4619-9820-84cbcb6f4eb3"
      },
      "execution_count": null,
      "outputs": [
        {
          "output_type": "execute_result",
          "data": {
            "text/plain": [
              "False"
            ]
          },
          "metadata": {},
          "execution_count": 10
        }
      ]
    },
    {
      "cell_type": "code",
      "source": [
        "type(True)"
      ],
      "metadata": {
        "colab": {
          "base_uri": "https://localhost:8080/"
        },
        "id": "u_8IoZcLyCcW",
        "outputId": "4fad2942-7ac2-4431-bb43-cbc04e90e7fe"
      },
      "execution_count": null,
      "outputs": [
        {
          "output_type": "execute_result",
          "data": {
            "text/plain": [
              "bool"
            ]
          },
          "metadata": {},
          "execution_count": 11
        }
      ]
    },
    {
      "cell_type": "code",
      "source": [
        "if 3 > 7:  #its a lie false\n",
        "  print(1)\n",
        "\n",
        "print(2)"
      ],
      "metadata": {
        "colab": {
          "base_uri": "https://localhost:8080/"
        },
        "id": "0AN5Lo0kzQWA",
        "outputId": "37e29fac-b0c1-478e-e9a1-bdfaad7c6b66"
      },
      "execution_count": null,
      "outputs": [
        {
          "output_type": "stream",
          "name": "stdout",
          "text": [
            "2\n"
          ]
        }
      ]
    },
    {
      "cell_type": "code",
      "source": [
        "#List"
      ],
      "metadata": {
        "id": "ychPJnC81m5y"
      },
      "execution_count": null,
      "outputs": []
    },
    {
      "cell_type": "code",
      "source": [
        "groc_list = ['banana','orange']"
      ],
      "metadata": {
        "id": "g32LYt6o_My-"
      },
      "execution_count": null,
      "outputs": []
    },
    {
      "cell_type": "code",
      "source": [
        "print(groc_list)"
      ],
      "metadata": {
        "colab": {
          "base_uri": "https://localhost:8080/"
        },
        "id": "nzwaOsqN_Qkp",
        "outputId": "6cd66c17-c451-4cb7-b829-9700a680ea61"
      },
      "execution_count": null,
      "outputs": [
        {
          "output_type": "stream",
          "name": "stdout",
          "text": [
            "['banana', 'orange']\n"
          ]
        }
      ]
    },
    {
      "cell_type": "code",
      "source": [
        "for item in groc_list:\n",
        "  print(item)"
      ],
      "metadata": {
        "colab": {
          "base_uri": "https://localhost:8080/"
        },
        "id": "daDojkvT_RwT",
        "outputId": "72f24d88-2b8f-47dd-8efd-cf38ecaaaf81"
      },
      "execution_count": null,
      "outputs": [
        {
          "output_type": "stream",
          "name": "stdout",
          "text": [
            "banana\n",
            "orange\n"
          ]
        }
      ]
    },
    {
      "cell_type": "code",
      "source": [
        "groc_list.append('blueberries')"
      ],
      "metadata": {
        "id": "kJpbIivJ_ymD"
      },
      "execution_count": null,
      "outputs": []
    },
    {
      "cell_type": "code",
      "source": [
        "for item in groc_list:\n",
        "  print(item)"
      ],
      "metadata": {
        "colab": {
          "base_uri": "https://localhost:8080/"
        },
        "id": "5CvZ9JqX_28u",
        "outputId": "2061deb1-52a0-4ae9-ab37-4f6370ac2faa"
      },
      "execution_count": null,
      "outputs": [
        {
          "output_type": "stream",
          "name": "stdout",
          "text": [
            "banana\n",
            "orange\n",
            "blueberries\n"
          ]
        }
      ]
    },
    {
      "cell_type": "code",
      "source": [
        "groc_list[2]"
      ],
      "metadata": {
        "colab": {
          "base_uri": "https://localhost:8080/",
          "height": 35
        },
        "id": "B0VajajZ_4x6",
        "outputId": "e97ef285-31f7-4c5d-f298-4d7087130227"
      },
      "execution_count": null,
      "outputs": [
        {
          "output_type": "execute_result",
          "data": {
            "text/plain": [
              "'blueberries'"
            ],
            "application/vnd.google.colaboratory.intrinsic+json": {
              "type": "string"
            }
          },
          "metadata": {},
          "execution_count": 20
        }
      ]
    },
    {
      "cell_type": "code",
      "source": [
        "for i in range(3):\n",
        "  print(groc_list[i])\n",
        "\n",
        "#but how do i know it is 3"
      ],
      "metadata": {
        "colab": {
          "base_uri": "https://localhost:8080/"
        },
        "id": "1J7SNdP1AI2S",
        "outputId": "4c1c99ef-2a12-4059-b83b-49349532f224"
      },
      "execution_count": null,
      "outputs": [
        {
          "output_type": "stream",
          "name": "stdout",
          "text": [
            "banana\n",
            "orange\n",
            "blueberries\n"
          ]
        }
      ]
    },
    {
      "cell_type": "code",
      "source": [
        "for i in range(len(groc_list)):\n",
        "  print(groc_list[i])"
      ],
      "metadata": {
        "id": "b_BRnnvmCjUK",
        "colab": {
          "base_uri": "https://localhost:8080/"
        },
        "outputId": "1b3b6333-0b9e-4401-9f20-68f6681e948d"
      },
      "execution_count": null,
      "outputs": [
        {
          "output_type": "stream",
          "name": "stdout",
          "text": [
            "banana\n",
            "orange\n",
            "blueberries\n"
          ]
        }
      ]
    },
    {
      "cell_type": "code",
      "source": [
        "for i, item in enumerate(groc_list):\n",
        "  print(i, item)"
      ],
      "metadata": {
        "colab": {
          "base_uri": "https://localhost:8080/"
        },
        "id": "-0IBG5JOEU5A",
        "outputId": "5c34dac5-d7aa-42e2-a563-caed7bd47c55"
      },
      "execution_count": null,
      "outputs": [
        {
          "output_type": "stream",
          "name": "stdout",
          "text": [
            "0 banana\n",
            "1 orange\n",
            "2 blueberries\n"
          ]
        }
      ]
    },
    {
      "cell_type": "code",
      "source": [
        "j = len(groc_list) - 1"
      ],
      "metadata": {
        "id": "wVatuS5GE4be"
      },
      "execution_count": null,
      "outputs": []
    },
    {
      "cell_type": "code",
      "source": [
        "while j>=0:\n",
        "  print(groc_list[j])\n",
        "  j = j - 1\n",
        "\n",
        "print('end')"
      ],
      "metadata": {
        "colab": {
          "base_uri": "https://localhost:8080/"
        },
        "id": "-Pd_miGzGGUX",
        "outputId": "00d7e7b3-262b-4f7a-cbc1-456cd7610866"
      },
      "execution_count": null,
      "outputs": [
        {
          "output_type": "stream",
          "name": "stdout",
          "text": [
            "blueberries\n",
            "orange\n",
            "banana\n",
            "end\n"
          ]
        }
      ]
    },
    {
      "cell_type": "code",
      "source": [
        "i = 0\n",
        "\n",
        "while i<len(groc_list):\n",
        "  print(groc_list[i])\n",
        "  i = i+1\n",
        "\n",
        "print('end')"
      ],
      "metadata": {
        "colab": {
          "base_uri": "https://localhost:8080/"
        },
        "id": "6vcdoHF3GRk1",
        "outputId": "00043170-558e-4347-a47b-993808324b61"
      },
      "execution_count": null,
      "outputs": [
        {
          "output_type": "stream",
          "name": "stdout",
          "text": [
            "banana\n",
            "orange\n",
            "blueberries\n",
            "end\n"
          ]
        }
      ]
    },
    {
      "cell_type": "code",
      "source": [
        "if False:\n",
        "  print(1)\n",
        "elif False:\n",
        "  print(2)\n",
        "else:\n",
        "  print(3)\n",
        "\n",
        "print('end')"
      ],
      "metadata": {
        "id": "P9Y6GNdnG5wU",
        "colab": {
          "base_uri": "https://localhost:8080/"
        },
        "outputId": "04706a22-8191-4849-ba7a-db8bc9d162b6"
      },
      "execution_count": null,
      "outputs": [
        {
          "output_type": "stream",
          "name": "stdout",
          "text": [
            "3\n",
            "end\n"
          ]
        }
      ]
    },
    {
      "cell_type": "code",
      "source": [
        "True or True"
      ],
      "metadata": {
        "colab": {
          "base_uri": "https://localhost:8080/"
        },
        "id": "g2PH_WC6FYaS",
        "outputId": "3891832b-7f6e-4c7e-96cd-467e609dbc87"
      },
      "execution_count": null,
      "outputs": [
        {
          "output_type": "execute_result",
          "data": {
            "text/plain": [
              "True"
            ]
          },
          "metadata": {},
          "execution_count": 2
        }
      ]
    },
    {
      "cell_type": "code",
      "source": [
        "False or True"
      ],
      "metadata": {
        "id": "iAkSZOZfFg8V",
        "outputId": "cd8b9f2e-b3fa-4a6f-a8e9-b5dd3ee93f5c",
        "colab": {
          "base_uri": "https://localhost:8080/"
        }
      },
      "execution_count": null,
      "outputs": [
        {
          "output_type": "execute_result",
          "data": {
            "text/plain": [
              "True"
            ]
          },
          "metadata": {},
          "execution_count": 3
        }
      ]
    },
    {
      "cell_type": "code",
      "source": [
        "False and True"
      ],
      "metadata": {
        "id": "ifB4MkpAFh_9",
        "outputId": "f008bd1c-988e-406b-f0ad-e9832128d6ae",
        "colab": {
          "base_uri": "https://localhost:8080/"
        }
      },
      "execution_count": null,
      "outputs": [
        {
          "output_type": "execute_result",
          "data": {
            "text/plain": [
              "False"
            ]
          },
          "metadata": {},
          "execution_count": 4
        }
      ]
    },
    {
      "cell_type": "code",
      "source": [
        "def our_print(s):\n",
        "  print(s)\n",
        "  print(s + \"Hello\")\n",
        "\n",
        "our_print(\"Hi Srijit,\")\n",
        "\n",
        "#s exists within the function, it has no existence outside, s is local to the function"
      ],
      "metadata": {
        "id": "gExgDJV-Fi_P",
        "colab": {
          "base_uri": "https://localhost:8080/"
        },
        "outputId": "7ea0e8cb-728b-4666-8abc-c1ad398cecb2"
      },
      "execution_count": null,
      "outputs": [
        {
          "output_type": "stream",
          "name": "stdout",
          "text": [
            "Hi Srijit,\n",
            "Hi Srijit,Hello\n"
          ]
        }
      ]
    },
    {
      "cell_type": "code",
      "source": [
        "#if we have a variable outside the function and we do not include it in the function parameter but still print it then it prints the value outside the function"
      ],
      "metadata": {
        "id": "wfo4CKKkwb9e"
      },
      "execution_count": null,
      "outputs": []
    },
    {
      "cell_type": "code",
      "source": [
        "#Let us make another function\n",
        "\n",
        "def times_2(x):\n",
        "  return x*2\n",
        "\n",
        "times_2(5)"
      ],
      "metadata": {
        "colab": {
          "base_uri": "https://localhost:8080/"
        },
        "id": "szjmeXPcxYKL",
        "outputId": "de8bc6ac-cba8-46ef-ac44-70e51331ed5b"
      },
      "execution_count": null,
      "outputs": [
        {
          "output_type": "execute_result",
          "data": {
            "text/plain": [
              "10"
            ]
          },
          "metadata": {},
          "execution_count": 4
        }
      ]
    },
    {
      "cell_type": "code",
      "source": [
        "def append_to_list(a):\n",
        "  lst.append(4)\n",
        "\n",
        "lst = [1,2,3,4]\n",
        "\n",
        "append_to_list(5)"
      ],
      "metadata": {
        "id": "5y4Ot_uOyH1F"
      },
      "execution_count": null,
      "outputs": []
    },
    {
      "cell_type": "code",
      "source": [
        "#it does not return anythin becuase you are not using return or print"
      ],
      "metadata": {
        "id": "KGOG4SuI1KQO"
      },
      "execution_count": null,
      "outputs": []
    },
    {
      "cell_type": "code",
      "source": [
        "print(lst)"
      ],
      "metadata": {
        "colab": {
          "base_uri": "https://localhost:8080/"
        },
        "id": "zrlUfbMP1aYg",
        "outputId": "80fd0f05-e03b-4be1-9319-259c5d44e6f3"
      },
      "execution_count": null,
      "outputs": [
        {
          "output_type": "stream",
          "name": "stdout",
          "text": [
            "[1, 2, 3, 4, 4]\n"
          ]
        }
      ]
    },
    {
      "cell_type": "code",
      "source": [
        "#Side effect of a function is you got to check if it changes your original variable , if so better declare a new variable to store the result"
      ],
      "metadata": {
        "id": "_OirvYEesd_n"
      },
      "execution_count": null,
      "outputs": []
    },
    {
      "cell_type": "code",
      "source": [
        "#Learn the difference between == and is"
      ],
      "metadata": {
        "id": "j84nMegltbQk"
      },
      "execution_count": null,
      "outputs": []
    },
    {
      "cell_type": "code",
      "source": [
        "a = [1,2,3,4]\n",
        "b = a"
      ],
      "metadata": {
        "id": "WJC7zOUXt76x"
      },
      "execution_count": null,
      "outputs": []
    },
    {
      "cell_type": "code",
      "source": [
        "a == b"
      ],
      "metadata": {
        "colab": {
          "base_uri": "https://localhost:8080/"
        },
        "id": "sLeGFEPzt_iw",
        "outputId": "0733d608-2282-45eb-90c6-858d56f2fd14"
      },
      "execution_count": null,
      "outputs": [
        {
          "output_type": "execute_result",
          "data": {
            "text/plain": [
              "True"
            ]
          },
          "metadata": {},
          "execution_count": 8
        }
      ]
    },
    {
      "cell_type": "code",
      "source": [
        "b == a"
      ],
      "metadata": {
        "colab": {
          "base_uri": "https://localhost:8080/"
        },
        "id": "7rxkfoMeuAjD",
        "outputId": "76da8645-c9e6-40e1-b52c-8e696b0277f1"
      },
      "execution_count": null,
      "outputs": [
        {
          "output_type": "execute_result",
          "data": {
            "text/plain": [
              "True"
            ]
          },
          "metadata": {},
          "execution_count": 9
        }
      ]
    },
    {
      "cell_type": "code",
      "source": [
        "a is b"
      ],
      "metadata": {
        "colab": {
          "base_uri": "https://localhost:8080/"
        },
        "id": "_AV0eSSiuBbv",
        "outputId": "f141de60-23a1-4f6f-9304-66b55c51325d"
      },
      "execution_count": null,
      "outputs": [
        {
          "output_type": "execute_result",
          "data": {
            "text/plain": [
              "True"
            ]
          },
          "metadata": {},
          "execution_count": 10
        }
      ]
    },
    {
      "cell_type": "code",
      "source": [
        "a is [1,2,3,4]"
      ],
      "metadata": {
        "colab": {
          "base_uri": "https://localhost:8080/"
        },
        "id": "4xrEKnWnuC23",
        "outputId": "20280936-12c7-43fa-d093-d801b028364c"
      },
      "execution_count": null,
      "outputs": [
        {
          "output_type": "execute_result",
          "data": {
            "text/plain": [
              "False"
            ]
          },
          "metadata": {},
          "execution_count": 11
        }
      ]
    },
    {
      "cell_type": "code",
      "source": [
        "a[0] = 7\n",
        "print(a)"
      ],
      "metadata": {
        "colab": {
          "base_uri": "https://localhost:8080/"
        },
        "id": "Z2W5YpTDuEfx",
        "outputId": "4aef7e9c-8e42-4205-9f9a-5adec50cd674"
      },
      "execution_count": null,
      "outputs": [
        {
          "output_type": "stream",
          "name": "stdout",
          "text": [
            "[7, 2, 3, 4]\n"
          ]
        }
      ]
    },
    {
      "cell_type": "code",
      "source": [
        "print(b)"
      ],
      "metadata": {
        "colab": {
          "base_uri": "https://localhost:8080/"
        },
        "id": "4ipIpy8ru-8j",
        "outputId": "4469398e-e6c3-44ef-fef5-8b4ba7ba954d"
      },
      "execution_count": null,
      "outputs": [
        {
          "output_type": "stream",
          "name": "stdout",
          "text": [
            "[7, 2, 3, 4]\n"
          ]
        }
      ]
    },
    {
      "cell_type": "code",
      "source": [
        "#since a and b refer to the same thing a change in a is a change in b"
      ],
      "metadata": {
        "id": "ytNgmdY_vFe_"
      },
      "execution_count": null,
      "outputs": []
    },
    {
      "cell_type": "code",
      "source": [
        "#what to do we if we want to change a but not b"
      ],
      "metadata": {
        "id": "QLyI_6ssvLCC"
      },
      "execution_count": null,
      "outputs": []
    },
    {
      "cell_type": "code",
      "source": [
        "from copy import deepcopy\n",
        "\n",
        "b = deepcopy(a)"
      ],
      "metadata": {
        "id": "yrB6-pkzzHWJ"
      },
      "execution_count": null,
      "outputs": []
    },
    {
      "cell_type": "code",
      "source": [
        "a"
      ],
      "metadata": {
        "colab": {
          "base_uri": "https://localhost:8080/"
        },
        "id": "iCGQzWWHzPLG",
        "outputId": "4bd9a16c-549e-4fb4-de6b-02d7e69a4063"
      },
      "execution_count": null,
      "outputs": [
        {
          "output_type": "execute_result",
          "data": {
            "text/plain": [
              "[7, 2, 3, 4]"
            ]
          },
          "metadata": {},
          "execution_count": 19
        }
      ]
    },
    {
      "cell_type": "code",
      "source": [
        "b"
      ],
      "metadata": {
        "colab": {
          "base_uri": "https://localhost:8080/"
        },
        "id": "2lBZdf2_zP4h",
        "outputId": "d6acc248-962f-499a-c5b7-740e4a0785b7"
      },
      "execution_count": null,
      "outputs": [
        {
          "output_type": "execute_result",
          "data": {
            "text/plain": [
              "[7, 2, 3, 4]"
            ]
          },
          "metadata": {},
          "execution_count": 20
        }
      ]
    },
    {
      "cell_type": "code",
      "source": [
        "a[1] = 12"
      ],
      "metadata": {
        "id": "qwix-QLCzQTU"
      },
      "execution_count": null,
      "outputs": []
    },
    {
      "cell_type": "code",
      "source": [
        "a"
      ],
      "metadata": {
        "colab": {
          "base_uri": "https://localhost:8080/"
        },
        "id": "OPB76rouzRue",
        "outputId": "2e82ad0a-59e4-4ede-a428-72ab4c5482b8"
      },
      "execution_count": null,
      "outputs": [
        {
          "output_type": "execute_result",
          "data": {
            "text/plain": [
              "[7, 12, 3, 4]"
            ]
          },
          "metadata": {},
          "execution_count": 22
        }
      ]
    },
    {
      "cell_type": "code",
      "source": [
        "b"
      ],
      "metadata": {
        "colab": {
          "base_uri": "https://localhost:8080/"
        },
        "id": "5ADaU2ndzSng",
        "outputId": "dd66ebc7-349c-4e48-c3f0-eb9f20483a78"
      },
      "execution_count": null,
      "outputs": [
        {
          "output_type": "execute_result",
          "data": {
            "text/plain": [
              "[7, 2, 3, 4]"
            ]
          },
          "metadata": {},
          "execution_count": 23
        }
      ]
    },
    {
      "cell_type": "code",
      "source": [
        "#now they are not affected"
      ],
      "metadata": {
        "id": "312SfYSWzTJ9"
      },
      "execution_count": null,
      "outputs": []
    },
    {
      "cell_type": "code",
      "source": [
        "#let us see how a variable behaves if changed within a function"
      ],
      "metadata": {
        "id": "nMBKQVUqzU-8"
      },
      "execution_count": null,
      "outputs": []
    },
    {
      "cell_type": "code",
      "source": [
        "def add_1(x):\n",
        "  x = 8\n",
        "  return x + 1\n",
        "\n",
        "add_1(4)"
      ],
      "metadata": {
        "colab": {
          "base_uri": "https://localhost:8080/"
        },
        "id": "z6b3PgQu0h82",
        "outputId": "c682be2e-2e34-4b55-9aaa-8a4ca10acaa9"
      },
      "execution_count": null,
      "outputs": [
        {
          "output_type": "execute_result",
          "data": {
            "text/plain": [
              "9"
            ]
          },
          "metadata": {},
          "execution_count": 26
        }
      ]
    },
    {
      "cell_type": "code",
      "source": [
        "#non default does not follow default argument"
      ],
      "metadata": {
        "id": "tN6AdRU_0nfe"
      },
      "execution_count": null,
      "outputs": []
    },
    {
      "cell_type": "code",
      "source": [
        "def add_x(a,b=3):\n",
        "  return a + b\n",
        "\n",
        "add_x(4)"
      ],
      "metadata": {
        "colab": {
          "base_uri": "https://localhost:8080/"
        },
        "id": "VKpigKE13DmA",
        "outputId": "3c01142e-b643-4e2d-96b2-14be1123174f"
      },
      "execution_count": null,
      "outputs": [
        {
          "output_type": "execute_result",
          "data": {
            "text/plain": [
              "7"
            ]
          },
          "metadata": {},
          "execution_count": 29
        }
      ]
    },
    {
      "cell_type": "code",
      "source": [
        "def add_y(a,b=1,c = 3):\n",
        "  return a + b - c\n",
        "\n",
        "add_y(a=3,b = 2)"
      ],
      "metadata": {
        "colab": {
          "base_uri": "https://localhost:8080/"
        },
        "id": "jV-E45QP368M",
        "outputId": "0b99c4bc-f400-45d9-eec8-87333471e765"
      },
      "execution_count": null,
      "outputs": [
        {
          "output_type": "execute_result",
          "data": {
            "text/plain": [
              "2"
            ]
          },
          "metadata": {},
          "execution_count": 32
        }
      ]
    },
    {
      "cell_type": "code",
      "source": [
        "#a and b are assigned, a and b are changed at runtime"
      ],
      "metadata": {
        "id": "2TzOHTvC4hwO"
      },
      "execution_count": null,
      "outputs": []
    },
    {
      "cell_type": "code",
      "source": [
        "#file input and output"
      ],
      "metadata": {
        "id": "_xBiJeNP4q2d"
      },
      "execution_count": null,
      "outputs": []
    },
    {
      "cell_type": "code",
      "source": [
        "#file read and write"
      ],
      "metadata": {
        "id": "fyvzebGS5LcO"
      },
      "execution_count": null,
      "outputs": []
    },
    {
      "cell_type": "code",
      "source": [
        "p = '/content/sample_data/test.txt'\n",
        "\n",
        "with open(p,'r') as f:\n",
        "  for line in f:\n",
        "    print(line.rstrip())\n"
      ],
      "metadata": {
        "id": "rmk3s0ZUXKHp",
        "colab": {
          "base_uri": "https://localhost:8080/"
        },
        "outputId": "6f6207ca-8ae9-4726-bf72-6eb94d5f001a"
      },
      "execution_count": null,
      "outputs": [
        {
          "output_type": "stream",
          "name": "stdout",
          "text": [
            "hello\n",
            "Srijit\n",
            "here\n"
          ]
        }
      ]
    },
    {
      "cell_type": "code",
      "source": [
        "with open('new_file.txt','w') as f:\n",
        "  f.write(\"Whats'up Nigga\")\n"
      ],
      "metadata": {
        "id": "50RWv5trqX6q"
      },
      "execution_count": null,
      "outputs": []
    },
    {
      "cell_type": "code",
      "source": [
        "x = '/content/new_file.txt'\n",
        "\n",
        "with open(x,'r') as f:\n",
        "  for line in f:\n",
        "    print(line.rstrip())\n"
      ],
      "metadata": {
        "colab": {
          "base_uri": "https://localhost:8080/"
        },
        "id": "JBsC03wAq_kU",
        "outputId": "7dabc509-257f-4871-9e49-12ac0ee4daaf"
      },
      "execution_count": null,
      "outputs": [
        {
          "output_type": "stream",
          "name": "stdout",
          "text": [
            "Whats'up Nigga\n"
          ]
        }
      ]
    },
    {
      "cell_type": "code",
      "source": [
        "with open(x,'a') as f:\n",
        "  f.write(\"Hola amigo\")"
      ],
      "metadata": {
        "id": "6e7NzNr4rM0r"
      },
      "execution_count": null,
      "outputs": []
    },
    {
      "cell_type": "code",
      "source": [
        "class Human:\n",
        "  def __init__(self, age, name):\n",
        "    self._age = age\n",
        "    self._name = name\n",
        "\n",
        "  def __str__(self):\n",
        "    return \"Hi \" + self._name + \".\"\n",
        "\n",
        "  def __repr__(self) -> str:\n",
        "    return \"Hi \" + self._name + \".\"\n",
        "\n",
        "  def older_than(self, age):\n",
        "    if self._age > age:\n",
        "      print(\"I am older\")\n",
        "    elif self._age == age:\n",
        "      print(\"Age is equal\")\n",
        "    else:\n",
        "      print(\"NOOOOOOO\")\n",
        "\n",
        "\n",
        "h = Human(age = 4,name='Riko')\n",
        "h.older_than(5)\n",
        "print(h)"
      ],
      "metadata": {
        "colab": {
          "base_uri": "https://localhost:8080/"
        },
        "id": "nYQiKPvDreNx",
        "outputId": "36e82a00-636b-4476-87c0-b55281f908f2"
      },
      "execution_count": null,
      "outputs": [
        {
          "output_type": "stream",
          "name": "stdout",
          "text": [
            "NOOOOOOO\n",
            "Hi Riko.\n"
          ]
        }
      ]
    },
    {
      "cell_type": "code",
      "source": [
        "class Dog:\n",
        "  def __init__(self, age, breed):\n",
        "    self._age = age\n",
        "    self._breed = breed\n",
        "\n",
        "  def __str__(self):\n",
        "    return \"This is a \" + self._breed + \" aged \" + str(self._age)\n",
        "\n",
        "  def __repr__(self):\n",
        "    return \"This is a \" + self._breed + \" aged \" + str(self._age)\n",
        "\n",
        "d = Dog(age = 4,breed ='Labrador')\n",
        "d"
      ],
      "metadata": {
        "colab": {
          "base_uri": "https://localhost:8080/"
        },
        "id": "yOXfkbEDtkBv",
        "outputId": "97ebed19-a74d-4251-da79-4e15014c8e4e"
      },
      "execution_count": null,
      "outputs": [
        {
          "output_type": "execute_result",
          "data": {
            "text/plain": [
              "This is a Labrador aged 4"
            ]
          },
          "metadata": {},
          "execution_count": 18
        }
      ]
    },
    {
      "cell_type": "code",
      "source": [
        "d.__str__()"
      ],
      "metadata": {
        "colab": {
          "base_uri": "https://localhost:8080/",
          "height": 35
        },
        "id": "V4m-On4zuEfE",
        "outputId": "ed25b114-7e74-4555-c5dd-571d5d53cab6"
      },
      "execution_count": null,
      "outputs": [
        {
          "output_type": "execute_result",
          "data": {
            "text/plain": [
              "'This is a Labrador aged 4'"
            ],
            "application/vnd.google.colaboratory.intrinsic+json": {
              "type": "string"
            }
          },
          "metadata": {},
          "execution_count": 19
        }
      ]
    },
    {
      "cell_type": "code",
      "source": [
        "d._age"
      ],
      "metadata": {
        "colab": {
          "base_uri": "https://localhost:8080/"
        },
        "id": "2NLkJb_Nyl-I",
        "outputId": "b3a38f8f-a8a8-4d8a-f014-004caff9731f"
      },
      "execution_count": null,
      "outputs": [
        {
          "output_type": "execute_result",
          "data": {
            "text/plain": [
              "4"
            ]
          },
          "metadata": {},
          "execution_count": 20
        }
      ]
    },
    {
      "cell_type": "code",
      "source": [
        "d._breed"
      ],
      "metadata": {
        "colab": {
          "base_uri": "https://localhost:8080/",
          "height": 35
        },
        "id": "qrW1F2mlynjQ",
        "outputId": "88f673b9-d79d-4193-e91b-3a5a1bcb4732"
      },
      "execution_count": null,
      "outputs": [
        {
          "output_type": "execute_result",
          "data": {
            "text/plain": [
              "'Labrador'"
            ],
            "application/vnd.google.colaboratory.intrinsic+json": {
              "type": "string"
            }
          },
          "metadata": {},
          "execution_count": 21
        }
      ]
    },
    {
      "cell_type": "markdown",
      "source": [
        "#Lists"
      ],
      "metadata": {
        "id": "R6qPMww6zMFX"
      }
    },
    {
      "cell_type": "code",
      "source": [
        "#A detailed overview of the complex data types in python"
      ],
      "metadata": {
        "id": "WU044tczyohO"
      },
      "execution_count": null,
      "outputs": []
    },
    {
      "cell_type": "code",
      "source": [
        "l = [0,1,2,3]"
      ],
      "metadata": {
        "id": "87lAr9x3zWuS"
      },
      "execution_count": null,
      "outputs": []
    },
    {
      "cell_type": "code",
      "source": [
        "len(l)"
      ],
      "metadata": {
        "colab": {
          "base_uri": "https://localhost:8080/"
        },
        "id": "aEBzCWhNzvb2",
        "outputId": "ea1433d2-9a52-41a3-f6b1-dfd0a801bce9"
      },
      "execution_count": null,
      "outputs": [
        {
          "output_type": "execute_result",
          "data": {
            "text/plain": [
              "4"
            ]
          },
          "metadata": {},
          "execution_count": 27
        }
      ]
    },
    {
      "cell_type": "code",
      "source": [
        "l.insert(0,\"Hi\")"
      ],
      "metadata": {
        "id": "NwEEwNLKzxfH"
      },
      "execution_count": null,
      "outputs": []
    },
    {
      "cell_type": "code",
      "source": [
        "l"
      ],
      "metadata": {
        "colab": {
          "base_uri": "https://localhost:8080/"
        },
        "id": "Rg8hR5ooz3-I",
        "outputId": "97fa45ba-52a0-4fc0-86ac-9a2adaf553a9"
      },
      "execution_count": null,
      "outputs": [
        {
          "output_type": "execute_result",
          "data": {
            "text/plain": [
              "['Hi', 0, 1, 2, 3]"
            ]
          },
          "metadata": {},
          "execution_count": 32
        }
      ]
    },
    {
      "cell_type": "code",
      "source": [
        "l.append(4)"
      ],
      "metadata": {
        "id": "W0rCHpfn0A-f"
      },
      "execution_count": null,
      "outputs": []
    },
    {
      "cell_type": "code",
      "source": [
        "l"
      ],
      "metadata": {
        "colab": {
          "base_uri": "https://localhost:8080/"
        },
        "id": "z-k-Oyuk0DWQ",
        "outputId": "36f736f9-8a28-4685-c376-6b42a8e45140"
      },
      "execution_count": null,
      "outputs": [
        {
          "output_type": "execute_result",
          "data": {
            "text/plain": [
              "['Hi', 0, 1, 2, 3, 4]"
            ]
          },
          "metadata": {},
          "execution_count": 34
        }
      ]
    },
    {
      "cell_type": "code",
      "source": [
        "l.count(4)"
      ],
      "metadata": {
        "colab": {
          "base_uri": "https://localhost:8080/"
        },
        "id": "TcOFcaNB0Ehd",
        "outputId": "e00c9d88-4886-40d1-a2f7-3184081c4e6a"
      },
      "execution_count": null,
      "outputs": [
        {
          "output_type": "execute_result",
          "data": {
            "text/plain": [
              "1"
            ]
          },
          "metadata": {},
          "execution_count": 35
        }
      ]
    },
    {
      "cell_type": "code",
      "source": [
        "l.count(5)"
      ],
      "metadata": {
        "colab": {
          "base_uri": "https://localhost:8080/"
        },
        "id": "rymXxSOW0I3G",
        "outputId": "33c14fce-4501-4174-cfdc-d1e1677082e2"
      },
      "execution_count": null,
      "outputs": [
        {
          "output_type": "execute_result",
          "data": {
            "text/plain": [
              "0"
            ]
          },
          "metadata": {},
          "execution_count": 36
        }
      ]
    },
    {
      "cell_type": "code",
      "source": [
        "l.reverse()"
      ],
      "metadata": {
        "id": "13kKCjNh0LKu"
      },
      "execution_count": null,
      "outputs": []
    },
    {
      "cell_type": "code",
      "source": [
        "l"
      ],
      "metadata": {
        "colab": {
          "base_uri": "https://localhost:8080/"
        },
        "id": "UyvWrc-h0ND-",
        "outputId": "287bf345-4638-4f9e-b912-75db6198198c"
      },
      "execution_count": null,
      "outputs": [
        {
          "output_type": "execute_result",
          "data": {
            "text/plain": [
              "[4, 3, 2, 1, 0, 'Hi']"
            ]
          },
          "metadata": {},
          "execution_count": 38
        }
      ]
    },
    {
      "cell_type": "code",
      "source": [
        "#in place change"
      ],
      "metadata": {
        "id": "o4cvDfSS0N72"
      },
      "execution_count": null,
      "outputs": []
    },
    {
      "cell_type": "code",
      "source": [
        "l.remove(3)"
      ],
      "metadata": {
        "id": "_JhLlcMt0QKD"
      },
      "execution_count": null,
      "outputs": []
    },
    {
      "cell_type": "code",
      "source": [
        "print(l)"
      ],
      "metadata": {
        "colab": {
          "base_uri": "https://localhost:8080/"
        },
        "id": "5FVgYdLj0Xvx",
        "outputId": "33e293d2-f237-42f3-ee2f-2828cd67fd00"
      },
      "execution_count": null,
      "outputs": [
        {
          "output_type": "stream",
          "name": "stdout",
          "text": [
            "[4, 2, 1, 0, 'Hi']\n"
          ]
        }
      ]
    },
    {
      "cell_type": "code",
      "source": [
        "#string operations"
      ],
      "metadata": {
        "id": "Rw0AoU990Yy9"
      },
      "execution_count": null,
      "outputs": []
    },
    {
      "cell_type": "code",
      "source": [
        "l = []\n",
        "\n",
        "for i in range(5):\n",
        "  for j in range(3):\n",
        "    if (i+j)%2 == 0:\n",
        "      l.append(i+j)\n",
        "\n",
        "l"
      ],
      "metadata": {
        "colab": {
          "base_uri": "https://localhost:8080/"
        },
        "id": "Z1Hn0tlr0uU_",
        "outputId": "077b115b-d95d-41db-9f84-817c61c3082c"
      },
      "execution_count": null,
      "outputs": [
        {
          "output_type": "execute_result",
          "data": {
            "text/plain": [
              "[0, 2, 2, 2, 4, 4, 4, 6]"
            ]
          },
          "metadata": {},
          "execution_count": 43
        }
      ]
    },
    {
      "cell_type": "markdown",
      "source": [
        "#Dictionary"
      ],
      "metadata": {
        "id": "21cSXbE21ViH"
      }
    },
    {
      "cell_type": "code",
      "source": [
        "d = {'Apple':'High vitamin c',\n",
        "     'Banana':'High in Potassium'}"
      ],
      "metadata": {
        "id": "VIAtF5SU0-ii"
      },
      "execution_count": null,
      "outputs": []
    },
    {
      "cell_type": "code",
      "source": [
        "d"
      ],
      "metadata": {
        "colab": {
          "base_uri": "https://localhost:8080/"
        },
        "id": "Hz5j9yzu1fk4",
        "outputId": "c6cf9385-78f1-4f78-8076-1e4f7b1c2240"
      },
      "execution_count": null,
      "outputs": [
        {
          "output_type": "execute_result",
          "data": {
            "text/plain": [
              "{'Apple': 'High vitamin c', 'Banana': 'High in Potassium'}"
            ]
          },
          "metadata": {},
          "execution_count": 49
        }
      ]
    },
    {
      "cell_type": "code",
      "source": [
        "d.keys()"
      ],
      "metadata": {
        "colab": {
          "base_uri": "https://localhost:8080/"
        },
        "id": "fE_T6rTL1i-3",
        "outputId": "fb403e9b-5f05-4093-a32f-a044e989e644"
      },
      "execution_count": null,
      "outputs": [
        {
          "output_type": "execute_result",
          "data": {
            "text/plain": [
              "dict_keys(['Apple', 'Banana'])"
            ]
          },
          "metadata": {},
          "execution_count": 50
        }
      ]
    },
    {
      "cell_type": "code",
      "source": [
        "d['Apple']"
      ],
      "metadata": {
        "colab": {
          "base_uri": "https://localhost:8080/",
          "height": 35
        },
        "id": "e1xq_Gsd1k4v",
        "outputId": "dcaf669c-feec-4280-f344-6304173cd654"
      },
      "execution_count": null,
      "outputs": [
        {
          "output_type": "execute_result",
          "data": {
            "text/plain": [
              "'High vitamin c'"
            ],
            "application/vnd.google.colaboratory.intrinsic+json": {
              "type": "string"
            }
          },
          "metadata": {},
          "execution_count": 51
        }
      ]
    },
    {
      "cell_type": "code",
      "source": [
        "d['Banana']"
      ],
      "metadata": {
        "colab": {
          "base_uri": "https://localhost:8080/",
          "height": 35
        },
        "id": "2zzSTYbY1oJi",
        "outputId": "f965a47c-ddcd-4972-bdd2-c29a137f631e"
      },
      "execution_count": null,
      "outputs": [
        {
          "output_type": "execute_result",
          "data": {
            "text/plain": [
              "'High in Potassium'"
            ],
            "application/vnd.google.colaboratory.intrinsic+json": {
              "type": "string"
            }
          },
          "metadata": {},
          "execution_count": 52
        }
      ]
    },
    {
      "cell_type": "code",
      "source": [
        "d['Banana'] = 'It is a vegetable'"
      ],
      "metadata": {
        "id": "QOb4bAwZ3syD"
      },
      "execution_count": null,
      "outputs": []
    },
    {
      "cell_type": "code",
      "source": [
        "d['Banana']"
      ],
      "metadata": {
        "colab": {
          "base_uri": "https://localhost:8080/",
          "height": 35
        },
        "id": "MYAf6mlT3xTw",
        "outputId": "87d56f29-3569-4ca7-ce37-5919cd377310"
      },
      "execution_count": null,
      "outputs": [
        {
          "output_type": "execute_result",
          "data": {
            "text/plain": [
              "'It is a vegetable'"
            ],
            "application/vnd.google.colaboratory.intrinsic+json": {
              "type": "string"
            }
          },
          "metadata": {},
          "execution_count": 54
        }
      ]
    },
    {
      "cell_type": "code",
      "source": [
        "del d['Banana']"
      ],
      "metadata": {
        "id": "-AU5XqLD3y9k"
      },
      "execution_count": null,
      "outputs": []
    },
    {
      "cell_type": "code",
      "source": [
        "d"
      ],
      "metadata": {
        "colab": {
          "base_uri": "https://localhost:8080/"
        },
        "id": "VxZ8vhss33-C",
        "outputId": "10b26802-e722-40c3-fb1b-e920c45c96c0"
      },
      "execution_count": null,
      "outputs": [
        {
          "output_type": "execute_result",
          "data": {
            "text/plain": [
              "{'Apple': 'High vitamin c'}"
            ]
          },
          "metadata": {},
          "execution_count": 56
        }
      ]
    },
    {
      "cell_type": "code",
      "source": [
        "d['Cucumnber'] = 'This fruit hydrates you'"
      ],
      "metadata": {
        "id": "C12dq-ZD34u0"
      },
      "execution_count": null,
      "outputs": []
    },
    {
      "cell_type": "code",
      "source": [
        "d['Watermelon'] = 'This fruit is so good in summers'"
      ],
      "metadata": {
        "id": "KABfjgSU4bD7"
      },
      "execution_count": null,
      "outputs": []
    },
    {
      "cell_type": "code",
      "source": [
        "for k in d.keys():\n",
        "  v = d[k]\n",
        "  print(k, v)"
      ],
      "metadata": {
        "colab": {
          "base_uri": "https://localhost:8080/"
        },
        "id": "f-3zK-gu4uW0",
        "outputId": "cd8e22e2-5c30-4d48-ee40-f7bdd71d2b62"
      },
      "execution_count": null,
      "outputs": [
        {
          "output_type": "stream",
          "name": "stdout",
          "text": [
            "Apple High vitamin c\n",
            "Cucumber This fruit hydrates you\n",
            "Watermelon This fruit is so good in summers\n",
            "Cucumnber This fruit hydrates you\n"
          ]
        }
      ]
    },
    {
      "cell_type": "code",
      "source": [
        "d2 = {0: 'Greg', 1:'Sarah', 2:'Tom'}"
      ],
      "metadata": {
        "id": "10Y59vj049e8"
      },
      "execution_count": null,
      "outputs": []
    },
    {
      "cell_type": "code",
      "source": [
        "d2[1]"
      ],
      "metadata": {
        "id": "8-h3DlqM5I6R",
        "outputId": "10e604d2-26cc-48f7-dc8a-c8a35adbdc71",
        "colab": {
          "base_uri": "https://localhost:8080/",
          "height": 35
        }
      },
      "execution_count": null,
      "outputs": [
        {
          "output_type": "execute_result",
          "data": {
            "text/plain": [
              "'Sarah'"
            ],
            "application/vnd.google.colaboratory.intrinsic+json": {
              "type": "string"
            }
          },
          "metadata": {},
          "execution_count": 62
        }
      ]
    },
    {
      "cell_type": "markdown",
      "source": [
        "Fstring in python"
      ],
      "metadata": {
        "id": "sZfehuykarsg"
      }
    },
    {
      "cell_type": "code",
      "source": [
        "name = 'Riko'\n",
        "fnum = 28\n",
        "call = 'homie'\n",
        "\n",
        "f\"Hey {name} how is it going. My fav number is {fnum}\""
      ],
      "metadata": {
        "id": "WiBIMZTx5Jig",
        "colab": {
          "base_uri": "https://localhost:8080/",
          "height": 35
        },
        "outputId": "6919c7db-ec51-431c-ec7b-11c7c4620b9b"
      },
      "execution_count": 4,
      "outputs": [
        {
          "output_type": "execute_result",
          "data": {
            "text/plain": [
              "'Hey Riko how is it going. My fav number is 28'"
            ],
            "application/vnd.google.colaboratory.intrinsic+json": {
              "type": "string"
            }
          },
          "metadata": {},
          "execution_count": 4
        }
      ]
    },
    {
      "cell_type": "code",
      "source": [
        "\"Hey {0} whats up {1}\".format(name, call)"
      ],
      "metadata": {
        "colab": {
          "base_uri": "https://localhost:8080/",
          "height": 35
        },
        "id": "LedJcMbKcWKT",
        "outputId": "6e919f9d-a945-42e7-8f13-bb57da4d5079"
      },
      "execution_count": 5,
      "outputs": [
        {
          "output_type": "execute_result",
          "data": {
            "text/plain": [
              "'Hey Riko whats up homie'"
            ],
            "application/vnd.google.colaboratory.intrinsic+json": {
              "type": "string"
            }
          },
          "metadata": {},
          "execution_count": 5
        }
      ]
    },
    {
      "cell_type": "code",
      "source": [
        "#for loop\n",
        "\n",
        "for c in \"Greg\":\n",
        "  print(c)"
      ],
      "metadata": {
        "colab": {
          "base_uri": "https://localhost:8080/"
        },
        "id": "DqYBL2OQdVS6",
        "outputId": "9ea48504-1d6f-4844-da55-15ad034b422f"
      },
      "execution_count": 6,
      "outputs": [
        {
          "output_type": "stream",
          "name": "stdout",
          "text": [
            "G\n",
            "r\n",
            "e\n",
            "g\n"
          ]
        }
      ]
    },
    {
      "cell_type": "code",
      "source": [
        "#tuple"
      ],
      "metadata": {
        "id": "Q7DQOVUCfNmD"
      },
      "execution_count": 7,
      "outputs": []
    },
    {
      "cell_type": "code",
      "source": [
        "t = (0,1)"
      ],
      "metadata": {
        "id": "z8MKbnMIjnIS"
      },
      "execution_count": 8,
      "outputs": []
    },
    {
      "cell_type": "code",
      "source": [
        "t[0]"
      ],
      "metadata": {
        "colab": {
          "base_uri": "https://localhost:8080/"
        },
        "id": "6HpMqPz0jrtV",
        "outputId": "6b9167d5-69aa-4941-db63-56f43de683c9"
      },
      "execution_count": 9,
      "outputs": [
        {
          "output_type": "execute_result",
          "data": {
            "text/plain": [
              "0"
            ]
          },
          "metadata": {},
          "execution_count": 9
        }
      ]
    },
    {
      "cell_type": "code",
      "source": [
        "for item in t:\n",
        "  print(item)"
      ],
      "metadata": {
        "colab": {
          "base_uri": "https://localhost:8080/"
        },
        "id": "4kUNvNubjt0d",
        "outputId": "ad49b19c-edc1-44ae-8af0-fd9da169418d"
      },
      "execution_count": 10,
      "outputs": [
        {
          "output_type": "stream",
          "name": "stdout",
          "text": [
            "0\n",
            "1\n"
          ]
        }
      ]
    },
    {
      "cell_type": "code",
      "source": [
        "#immutable\n",
        "#t[0] = 5\n",
        "#does not support item assignment"
      ],
      "metadata": {
        "id": "ff-5km5Uj3tX"
      },
      "execution_count": 12,
      "outputs": []
    },
    {
      "cell_type": "code",
      "source": [
        "x = [2,1,3,4]\n",
        "sorted(x)"
      ],
      "metadata": {
        "colab": {
          "base_uri": "https://localhost:8080/"
        },
        "id": "wK8ye0pBj6Bd",
        "outputId": "ad5a3ced-ccad-49dc-f3ac-31d8e71cf49c"
      },
      "execution_count": 13,
      "outputs": [
        {
          "output_type": "execute_result",
          "data": {
            "text/plain": [
              "[1, 2, 3, 4]"
            ]
          },
          "metadata": {},
          "execution_count": 13
        }
      ]
    },
    {
      "cell_type": "code",
      "source": [
        "#set"
      ],
      "metadata": {
        "id": "hHriRnKPkNYb"
      },
      "execution_count": 14,
      "outputs": []
    },
    {
      "cell_type": "code",
      "source": [
        "x = {1,3,3,4,5,2,2,4}\n",
        "print(x)"
      ],
      "metadata": {
        "colab": {
          "base_uri": "https://localhost:8080/"
        },
        "id": "943Gml9ckQUP",
        "outputId": "d6698863-98cb-483e-e4c5-b5975723ee2d"
      },
      "execution_count": 15,
      "outputs": [
        {
          "output_type": "stream",
          "name": "stdout",
          "text": [
            "{1, 2, 3, 4, 5}\n"
          ]
        }
      ]
    },
    {
      "cell_type": "code",
      "source": [
        "#no duplicates"
      ],
      "metadata": {
        "id": "Z5E-3EpwkYKb"
      },
      "execution_count": 16,
      "outputs": []
    },
    {
      "cell_type": "code",
      "source": [
        "#did sort but unsorted"
      ],
      "metadata": {
        "id": "KkPKlcmskalG"
      },
      "execution_count": 17,
      "outputs": []
    },
    {
      "cell_type": "code",
      "source": [
        "print(x)"
      ],
      "metadata": {
        "colab": {
          "base_uri": "https://localhost:8080/"
        },
        "id": "8a73E8z_kgxQ",
        "outputId": "8ca7920a-0ce1-485e-9dda-20b50ea96f42"
      },
      "execution_count": 18,
      "outputs": [
        {
          "output_type": "stream",
          "name": "stdout",
          "text": [
            "{1, 2, 3, 4, 5}\n"
          ]
        }
      ]
    },
    {
      "cell_type": "code",
      "source": [
        "s = {}\n",
        "type(s)"
      ],
      "metadata": {
        "colab": {
          "base_uri": "https://localhost:8080/"
        },
        "id": "vwQ4msGKkhxX",
        "outputId": "40257f1e-147a-4961-97ff-8baef485c496"
      },
      "execution_count": 20,
      "outputs": [
        {
          "output_type": "execute_result",
          "data": {
            "text/plain": [
              "dict"
            ]
          },
          "metadata": {},
          "execution_count": 20
        }
      ]
    },
    {
      "cell_type": "code",
      "source": [
        "#try catch except"
      ],
      "metadata": {
        "id": "m7-Vh9RQk2pd"
      },
      "execution_count": 21,
      "outputs": []
    },
    {
      "cell_type": "code",
      "source": [
        "t = (0,1,2)\n",
        "\n",
        "try:\n",
        "  print(\"hi\")\n",
        "  t[0] = 1\n",
        "except:\n",
        "  print(\"caught it\")"
      ],
      "metadata": {
        "colab": {
          "base_uri": "https://localhost:8080/"
        },
        "id": "tLJRjGbolEdm",
        "outputId": "86e0734f-45c0-4694-8183-9203dab10b5d"
      },
      "execution_count": 23,
      "outputs": [
        {
          "output_type": "stream",
          "name": "stdout",
          "text": [
            "hi\n",
            "caught it\n"
          ]
        }
      ]
    },
    {
      "cell_type": "code",
      "source": [
        "t = (0,1,2)\n",
        "\n",
        "try:\n",
        "  print(\"hi\")\n",
        "  t[0] = 1\n",
        "except TypeError:\n",
        "  print(\"caught it\")"
      ],
      "metadata": {
        "colab": {
          "base_uri": "https://localhost:8080/"
        },
        "id": "nNjQfKDElaK8",
        "outputId": "0bfd7817-f897-4ce5-efe2-9c60ce4c9b48"
      },
      "execution_count": 24,
      "outputs": [
        {
          "output_type": "stream",
          "name": "stdout",
          "text": [
            "hi\n",
            "caught it\n"
          ]
        }
      ]
    },
    {
      "cell_type": "code",
      "source": [
        "t = (0,1,2)\n",
        "\n",
        "try:\n",
        "  print(\"hi\")\n",
        "  t[0] = 1\n",
        "except:\n",
        "  print(\"caught it\")\n",
        "  #DOES NOT WORK sYNTAX ERROR"
      ],
      "metadata": {
        "colab": {
          "base_uri": "https://localhost:8080/"
        },
        "id": "Knnjp-N7lymp",
        "outputId": "513a9c52-9711-424c-ba41-f5798843ffc0"
      },
      "execution_count": 26,
      "outputs": [
        {
          "output_type": "stream",
          "name": "stdout",
          "text": [
            "hi\n",
            "caught it\n"
          ]
        }
      ]
    },
    {
      "cell_type": "code",
      "source": [
        "result = input(\"Hey please give us a number\")\n",
        "print(f\"The result is {result}\")"
      ],
      "metadata": {
        "colab": {
          "base_uri": "https://localhost:8080/"
        },
        "id": "6UlgE8k8mDaX",
        "outputId": "4aaacf31-ba0c-4a6d-fa4b-a4acd9ae9b86"
      },
      "execution_count": 27,
      "outputs": [
        {
          "output_type": "stream",
          "name": "stdout",
          "text": [
            "Hey please give us a number5\n",
            "The result is 5\n"
          ]
        }
      ]
    },
    {
      "cell_type": "markdown",
      "source": [
        "#List Comprehension"
      ],
      "metadata": {
        "id": "utGhm93vm-eN"
      }
    },
    {
      "cell_type": "code",
      "source": [
        "l1 = [x**2 for x in range(5)]\n",
        "l1"
      ],
      "metadata": {
        "colab": {
          "base_uri": "https://localhost:8080/"
        },
        "id": "adkQfL8amgUL",
        "outputId": "b80fb78e-0b24-47e6-d515-0db0eda85150"
      },
      "execution_count": 32,
      "outputs": [
        {
          "output_type": "execute_result",
          "data": {
            "text/plain": [
              "[0, 1, 4, 9, 16]"
            ]
          },
          "metadata": {},
          "execution_count": 32
        }
      ]
    },
    {
      "cell_type": "code",
      "source": [
        "l2 = [x if (x%2)==0 else 5 for x in range(5)]\n",
        "print(l2)"
      ],
      "metadata": {
        "colab": {
          "base_uri": "https://localhost:8080/"
        },
        "id": "r9ilkZnSnCeb",
        "outputId": "11b9bf3a-06c8-458f-897d-a6656435f5b6"
      },
      "execution_count": 36,
      "outputs": [
        {
          "output_type": "stream",
          "name": "stdout",
          "text": [
            "[0, 5, 2, 5, 4]\n"
          ]
        }
      ]
    },
    {
      "cell_type": "code",
      "source": [],
      "metadata": {
        "id": "YwfAMJssp7A4"
      },
      "execution_count": null,
      "outputs": []
    }
  ]
}