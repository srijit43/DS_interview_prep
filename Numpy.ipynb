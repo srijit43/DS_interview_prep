{
 "cells": [
  {
   "cell_type": "code",
   "execution_count": 1,
   "id": "32a4674f-92bc-4cfe-91b8-4e8c66978756",
   "metadata": {},
   "outputs": [],
   "source": [
    "import numpy as np"
   ]
  },
  {
   "cell_type": "code",
   "execution_count": 2,
   "id": "71fc50b4-ac3d-4488-9851-6ece8a29ec5d",
   "metadata": {},
   "outputs": [],
   "source": [
    "list = [1,2,3,4]"
   ]
  },
  {
   "cell_type": "code",
   "execution_count": 3,
   "id": "954735da-2276-4d75-963b-f8b38fae5251",
   "metadata": {},
   "outputs": [],
   "source": [
    "arr = np.array(list)"
   ]
  },
  {
   "cell_type": "code",
   "execution_count": 4,
   "id": "8c55035b-9d67-4c9f-aa9d-5e4ee93c8d7a",
   "metadata": {},
   "outputs": [
    {
     "data": {
      "text/plain": [
       "array([1, 2, 3, 4])"
      ]
     },
     "execution_count": 4,
     "metadata": {},
     "output_type": "execute_result"
    }
   ],
   "source": [
    "arr"
   ]
  },
  {
   "cell_type": "code",
   "execution_count": 5,
   "id": "2d1bd1e1-4ea1-4789-9fa0-5badc2f0bda8",
   "metadata": {},
   "outputs": [
    {
     "data": {
      "text/plain": [
       "numpy.ndarray"
      ]
     },
     "execution_count": 5,
     "metadata": {},
     "output_type": "execute_result"
    }
   ],
   "source": [
    "type(arr)"
   ]
  },
  {
   "cell_type": "code",
   "execution_count": 6,
   "id": "fbd27ce8-e56a-4ed8-9c10-41e9cc0ea299",
   "metadata": {},
   "outputs": [
    {
     "name": "stdout",
     "output_type": "stream",
     "text": [
      "[1 2 3 4]\n"
     ]
    }
   ],
   "source": [
    "print(arr)"
   ]
  },
  {
   "cell_type": "code",
   "execution_count": 7,
   "id": "4041e8e8-ad4a-4e3a-8057-a766d8e1b0a1",
   "metadata": {},
   "outputs": [
    {
     "data": {
      "text/plain": [
       "(4,)"
      ]
     },
     "execution_count": 7,
     "metadata": {},
     "output_type": "execute_result"
    }
   ],
   "source": [
    "arr.shape"
   ]
  },
  {
   "cell_type": "code",
   "execution_count": 8,
   "id": "c37670e9-c26c-4761-affd-1a7611a9a4e6",
   "metadata": {},
   "outputs": [],
   "source": [
    "list1 = [1,2,3,4,5]"
   ]
  },
  {
   "cell_type": "code",
   "execution_count": 9,
   "id": "0423a092-cb1e-4c43-93b1-07469417eed7",
   "metadata": {},
   "outputs": [],
   "source": [
    "list2 = [2,3,4,5,6]\n",
    "list3 = [5,6,7,8,9]"
   ]
  },
  {
   "cell_type": "code",
   "execution_count": 11,
   "id": "7d0f6389-0618-463b-804d-1c8da7ef09b9",
   "metadata": {},
   "outputs": [],
   "source": [
    "arr = np.array([list1,list2,list3])"
   ]
  },
  {
   "cell_type": "code",
   "execution_count": 12,
   "id": "09396a36-e0c2-4aa2-b4dd-4a61a9ec6bdd",
   "metadata": {},
   "outputs": [
    {
     "data": {
      "text/plain": [
       "array([[1, 2, 3, 4, 5],\n",
       "       [2, 3, 4, 5, 6],\n",
       "       [5, 6, 7, 8, 9]])"
      ]
     },
     "execution_count": 12,
     "metadata": {},
     "output_type": "execute_result"
    }
   ],
   "source": [
    "arr"
   ]
  },
  {
   "cell_type": "code",
   "execution_count": 15,
   "id": "d845ceb4-a22a-40fb-b69f-24d46946d238",
   "metadata": {},
   "outputs": [
    {
     "data": {
      "text/plain": [
       "(3, 5)"
      ]
     },
     "execution_count": 15,
     "metadata": {},
     "output_type": "execute_result"
    }
   ],
   "source": [
    "arr.shape #In 2d we have 2 brackets"
   ]
  },
  {
   "cell_type": "code",
   "execution_count": 16,
   "id": "6af30739-087c-4576-8a79-a95a3364945d",
   "metadata": {},
   "outputs": [
    {
     "data": {
      "text/plain": [
       "array([[1, 2, 3],\n",
       "       [4, 5, 2],\n",
       "       [3, 4, 5],\n",
       "       [6, 5, 6],\n",
       "       [7, 8, 9]])"
      ]
     },
     "execution_count": 16,
     "metadata": {},
     "output_type": "execute_result"
    }
   ],
   "source": [
    "arr.reshape(5,3)"
   ]
  },
  {
   "cell_type": "code",
   "execution_count": 17,
   "id": "3c67b5b1-28e2-41ca-b981-bdc20fe845df",
   "metadata": {},
   "outputs": [
    {
     "ename": "TypeError",
     "evalue": "'int' object is not callable",
     "output_type": "error",
     "traceback": [
      "\u001b[1;31m---------------------------------------------------------------------------\u001b[0m",
      "\u001b[1;31mTypeError\u001b[0m                                 Traceback (most recent call last)",
      "Cell \u001b[1;32mIn[17], line 1\u001b[0m\n\u001b[1;32m----> 1\u001b[0m arr\u001b[38;5;241m.\u001b[39msize()\n",
      "\u001b[1;31mTypeError\u001b[0m: 'int' object is not callable"
     ]
    }
   ],
   "source": [
    "arr.size()"
   ]
  },
  {
   "cell_type": "code",
   "execution_count": 18,
   "id": "a69d3656-3ccc-4b04-8d19-869fce0a89ca",
   "metadata": {},
   "outputs": [],
   "source": [
    "#row, columns ei format e data dekha jay"
   ]
  },
  {
   "cell_type": "code",
   "execution_count": 19,
   "id": "d2afa83a-105d-499c-ab17-270f147cf1f4",
   "metadata": {},
   "outputs": [],
   "source": [
    "#totsl element count jeno change na hoy"
   ]
  },
  {
   "cell_type": "code",
   "execution_count": 24,
   "id": "b5fbe9b2-1dcf-4a33-8c5a-f3ca69b48fbc",
   "metadata": {},
   "outputs": [
    {
     "data": {
      "text/plain": [
       "array([[1, 2],\n",
       "       [2, 3]])"
      ]
     },
     "execution_count": 24,
     "metadata": {},
     "output_type": "execute_result"
    }
   ],
   "source": [
    "arr[0:2,0:2]  #row, column"
   ]
  },
  {
   "cell_type": "code",
   "execution_count": 25,
   "id": "3419c265-029d-4b1a-a030-388568b8a139",
   "metadata": {},
   "outputs": [],
   "source": [
    "arr1 = np.arange(0,10)"
   ]
  },
  {
   "cell_type": "code",
   "execution_count": 26,
   "id": "eaffd81b-be05-4489-8225-0f542f8d2733",
   "metadata": {},
   "outputs": [
    {
     "data": {
      "text/plain": [
       "array([0, 1, 2, 3, 4, 5, 6, 7, 8, 9])"
      ]
     },
     "execution_count": 26,
     "metadata": {},
     "output_type": "execute_result"
    }
   ],
   "source": [
    "arr1"
   ]
  },
  {
   "cell_type": "code",
   "execution_count": 28,
   "id": "8557b703-4c0c-4909-9577-215317344012",
   "metadata": {},
   "outputs": [],
   "source": [
    "arr1.sort()"
   ]
  },
  {
   "cell_type": "code",
   "execution_count": 29,
   "id": "d21b8405-07d2-4658-9d56-130ee17aa208",
   "metadata": {},
   "outputs": [
    {
     "data": {
      "text/plain": [
       "45"
      ]
     },
     "execution_count": 29,
     "metadata": {},
     "output_type": "execute_result"
    }
   ],
   "source": [
    "arr1.sum()"
   ]
  },
  {
   "cell_type": "code",
   "execution_count": 31,
   "id": "15fb2e7b-5a22-4e6b-b263-0e8d4631066a",
   "metadata": {},
   "outputs": [],
   "source": [
    "arr2 = np.arange(0,100,step = 2)"
   ]
  },
  {
   "cell_type": "code",
   "execution_count": 32,
   "id": "cfe7bf70-5f7f-45d5-9a0d-95e19ca7d71d",
   "metadata": {},
   "outputs": [
    {
     "data": {
      "text/plain": [
       "array([ 0,  2,  4,  6,  8, 10, 12, 14, 16, 18, 20, 22, 24, 26, 28, 30, 32,\n",
       "       34, 36, 38, 40, 42, 44, 46, 48, 50, 52, 54, 56, 58, 60, 62, 64, 66,\n",
       "       68, 70, 72, 74, 76, 78, 80, 82, 84, 86, 88, 90, 92, 94, 96, 98])"
      ]
     },
     "execution_count": 32,
     "metadata": {},
     "output_type": "execute_result"
    }
   ],
   "source": [
    "arr2"
   ]
  },
  {
   "cell_type": "code",
   "execution_count": 33,
   "id": "2158c49b-6a19-42b1-b2e8-2670068925a0",
   "metadata": {},
   "outputs": [],
   "source": [
    "x = np.linspace(0,200,40)"
   ]
  },
  {
   "cell_type": "code",
   "execution_count": 34,
   "id": "288ac574-e88a-4dff-8dfc-027e3feeff6a",
   "metadata": {},
   "outputs": [
    {
     "data": {
      "text/plain": [
       "array([  0.        ,   5.12820513,  10.25641026,  15.38461538,\n",
       "        20.51282051,  25.64102564,  30.76923077,  35.8974359 ,\n",
       "        41.02564103,  46.15384615,  51.28205128,  56.41025641,\n",
       "        61.53846154,  66.66666667,  71.79487179,  76.92307692,\n",
       "        82.05128205,  87.17948718,  92.30769231,  97.43589744,\n",
       "       102.56410256, 107.69230769, 112.82051282, 117.94871795,\n",
       "       123.07692308, 128.20512821, 133.33333333, 138.46153846,\n",
       "       143.58974359, 148.71794872, 153.84615385, 158.97435897,\n",
       "       164.1025641 , 169.23076923, 174.35897436, 179.48717949,\n",
       "       184.61538462, 189.74358974, 194.87179487, 200.        ])"
      ]
     },
     "execution_count": 34,
     "metadata": {},
     "output_type": "execute_result"
    }
   ],
   "source": [
    "x"
   ]
  },
  {
   "cell_type": "code",
   "execution_count": 35,
   "id": "1046a096-25fe-4c1e-8589-a64f60776f14",
   "metadata": {},
   "outputs": [],
   "source": [
    "arr3 = x.copy()"
   ]
  },
  {
   "cell_type": "code",
   "execution_count": 36,
   "id": "e65749e0-3c95-40ac-9deb-cb41437ece3b",
   "metadata": {},
   "outputs": [
    {
     "data": {
      "text/plain": [
       "array([  0.        ,   5.12820513,  10.25641026,  15.38461538,\n",
       "        20.51282051,  25.64102564,  30.76923077,  35.8974359 ,\n",
       "        41.02564103,  46.15384615,  51.28205128,  56.41025641,\n",
       "        61.53846154,  66.66666667,  71.79487179,  76.92307692,\n",
       "        82.05128205,  87.17948718,  92.30769231,  97.43589744,\n",
       "       102.56410256, 107.69230769, 112.82051282, 117.94871795,\n",
       "       123.07692308, 128.20512821, 133.33333333, 138.46153846,\n",
       "       143.58974359, 148.71794872, 153.84615385, 158.97435897,\n",
       "       164.1025641 , 169.23076923, 174.35897436, 179.48717949,\n",
       "       184.61538462, 189.74358974, 194.87179487, 200.        ])"
      ]
     },
     "execution_count": 36,
     "metadata": {},
     "output_type": "execute_result"
    }
   ],
   "source": [
    "arr3"
   ]
  },
  {
   "cell_type": "code",
   "execution_count": 37,
   "id": "e43ecadf-7deb-414c-8e55-64e52855174b",
   "metadata": {},
   "outputs": [],
   "source": [
    "#array is reference type\n"
   ]
  },
  {
   "cell_type": "code",
   "execution_count": 38,
   "id": "6f6858a6-b2a7-4144-992e-7714dc6b62ea",
   "metadata": {},
   "outputs": [],
   "source": [
    "arrx = np.array([1,2,3])"
   ]
  },
  {
   "cell_type": "code",
   "execution_count": 39,
   "id": "0c570ed3-fba4-49bd-b600-98e3cc36b6c8",
   "metadata": {},
   "outputs": [],
   "source": [
    "arry = arrx"
   ]
  },
  {
   "cell_type": "code",
   "execution_count": 40,
   "id": "5f6adb83-7ef1-4be2-ada6-3571b85ac30e",
   "metadata": {},
   "outputs": [
    {
     "name": "stdout",
     "output_type": "stream",
     "text": [
      "[100   2   3]\n"
     ]
    }
   ],
   "source": [
    "arrx[:1]  =100\n",
    "print(arrx)"
   ]
  },
  {
   "cell_type": "code",
   "execution_count": 41,
   "id": "1e24b365-b292-44cc-9b05-08453349488c",
   "metadata": {},
   "outputs": [
    {
     "name": "stdout",
     "output_type": "stream",
     "text": [
      "[100   2   3]\n"
     ]
    }
   ],
   "source": [
    "print(arry)"
   ]
  },
  {
   "cell_type": "code",
   "execution_count": 42,
   "id": "0d17dcf9-aa63-4746-88a9-39b0b9a494f4",
   "metadata": {},
   "outputs": [],
   "source": [
    "#ja korlam x e ota y teo holo. Etake ref type bole tai erokom proyojon hole copy kore newa bhslo, assign na kore"
   ]
  },
  {
   "cell_type": "code",
   "execution_count": 44,
   "id": "c0991961-2c76-4323-8775-06be9dfe1986",
   "metadata": {},
   "outputs": [
    {
     "data": {
      "text/plain": [
       "array([100,   2,   3])"
      ]
     },
     "execution_count": 44,
     "metadata": {},
     "output_type": "execute_result"
    }
   ],
   "source": [
    "arrx*2 \n",
    "arrx"
   ]
  },
  {
   "cell_type": "code",
   "execution_count": 45,
   "id": "a034643d-c5e8-4623-a3da-2457f7121a62",
   "metadata": {},
   "outputs": [
    {
     "ename": "NameError",
     "evalue": "name 'ARR' is not defined",
     "output_type": "error",
     "traceback": [
      "\u001b[1;31m---------------------------------------------------------------------------\u001b[0m",
      "\u001b[1;31mNameError\u001b[0m                                 Traceback (most recent call last)",
      "Cell \u001b[1;32mIn[45], line 1\u001b[0m\n\u001b[1;32m----> 1\u001b[0m ARR\u001b[38;5;241m/\u001b[39m\u001b[38;5;241m2\u001b[39m\n",
      "\u001b[1;31mNameError\u001b[0m: name 'ARR' is not defined"
     ]
    }
   ],
   "source": [
    "ARR/2"
   ]
  },
  {
   "cell_type": "code",
   "execution_count": 46,
   "id": "a0aebe3e-ca6f-47bb-a347-33a97212deb0",
   "metadata": {},
   "outputs": [
    {
     "data": {
      "text/plain": [
       "array([[0.5, 1. , 1.5, 2. , 2.5],\n",
       "       [1. , 1.5, 2. , 2.5, 3. ],\n",
       "       [2.5, 3. , 3.5, 4. , 4.5]])"
      ]
     },
     "execution_count": 46,
     "metadata": {},
     "output_type": "execute_result"
    }
   ],
   "source": [
    "arr/2"
   ]
  },
  {
   "cell_type": "code",
   "execution_count": 47,
   "id": "846a2bc8-e6ad-494a-ad76-c9c4571b8025",
   "metadata": {},
   "outputs": [
    {
     "data": {
      "text/plain": [
       "array([50. ,  1. ,  1.5])"
      ]
     },
     "execution_count": 47,
     "metadata": {},
     "output_type": "execute_result"
    }
   ],
   "source": [
    "arrx/2"
   ]
  },
  {
   "cell_type": "code",
   "execution_count": 50,
   "id": "9fa14d87-335a-4fa1-926b-8624a13b44d1",
   "metadata": {},
   "outputs": [
    {
     "data": {
      "text/plain": [
       "array([100,   3])"
      ]
     },
     "execution_count": 50,
     "metadata": {},
     "output_type": "execute_result"
    }
   ],
   "source": [
    "arrx[arrx>2] #returns elelemts greatert than 2"
   ]
  },
  {
   "cell_type": "code",
   "execution_count": 51,
   "id": "47552fd9-e66f-4d19-b3a0-3aaa7b271dce",
   "metadata": {},
   "outputs": [],
   "source": [
    "z = np.ones(4)"
   ]
  },
  {
   "cell_type": "code",
   "execution_count": 52,
   "id": "9aa593c0-04ce-4fd2-bae4-326dcaec761e",
   "metadata": {},
   "outputs": [
    {
     "data": {
      "text/plain": [
       "array([1., 1., 1., 1.])"
      ]
     },
     "execution_count": 52,
     "metadata": {},
     "output_type": "execute_result"
    }
   ],
   "source": [
    "z"
   ]
  },
  {
   "cell_type": "code",
   "execution_count": 53,
   "id": "4a0f11e7-0125-4f7b-8d0f-72c633096998",
   "metadata": {},
   "outputs": [],
   "source": [
    "z = np.ones((2,5))"
   ]
  },
  {
   "cell_type": "code",
   "execution_count": 54,
   "id": "0514f98c-64e9-4383-bcf3-d5a1d1c1f3a6",
   "metadata": {},
   "outputs": [
    {
     "data": {
      "text/plain": [
       "array([[1., 1., 1., 1., 1.],\n",
       "       [1., 1., 1., 1., 1.]])"
      ]
     },
     "execution_count": 54,
     "metadata": {},
     "output_type": "execute_result"
    }
   ],
   "source": [
    "z"
   ]
  },
  {
   "cell_type": "code",
   "execution_count": 66,
   "id": "9434a215-9583-41ee-ba7c-025c787046bd",
   "metadata": {},
   "outputs": [],
   "source": [
    "ex = np.random.randint(0,100,16).reshape(4,4)"
   ]
  },
  {
   "cell_type": "code",
   "execution_count": 67,
   "id": "37d6ae73-2713-4d9d-8a06-a1b6830a131a",
   "metadata": {},
   "outputs": [
    {
     "data": {
      "text/plain": [
       "array([[72, 85, 62, 50],\n",
       "       [25, 45, 21, 90],\n",
       "       [64, 21, 39, 72],\n",
       "       [77, 14, 31, 86]])"
      ]
     },
     "execution_count": 67,
     "metadata": {},
     "output_type": "execute_result"
    }
   ],
   "source": [
    "ex"
   ]
  },
  {
   "cell_type": "code",
   "execution_count": 68,
   "id": "9fb602bb-9167-46eb-83b0-2d4c15cab068",
   "metadata": {},
   "outputs": [],
   "source": [
    "import seaborn as sns\n",
    "import pandas as pd"
   ]
  },
  {
   "cell_type": "code",
   "execution_count": 73,
   "id": "bf23eab8-bea3-4c77-8a4f-a127543ba6bb",
   "metadata": {},
   "outputs": [
    {
     "name": "stderr",
     "output_type": "stream",
     "text": [
      "C:\\Users\\sriji\\AppData\\Local\\Temp\\ipykernel_4244\\2485163846.py:1: UserWarning: \n",
      "\n",
      "`distplot` is a deprecated function and will be removed in seaborn v0.14.0.\n",
      "\n",
      "Please adapt your code to use either `displot` (a figure-level function with\n",
      "similar flexibility) or `histplot` (an axes-level function for histograms).\n",
      "\n",
      "For a guide to updating your code to use the new functions, please see\n",
      "https://gist.github.com/mwaskom/de44147ed2974457ad6372750bbe5751\n",
      "\n",
      "  sns.distplot(pd.DataFrame(ex))\n",
      "C:\\Users\\sriji\\anaconda3\\Lib\\site-packages\\seaborn\\_oldcore.py:1119: FutureWarning: use_inf_as_na option is deprecated and will be removed in a future version. Convert inf values to NaN before operating instead.\n",
      "  with pd.option_context('mode.use_inf_as_na', True):\n"
     ]
    },
    {
     "data": {
      "text/plain": [
       "<Axes: ylabel='Density'>"
      ]
     },
     "execution_count": 73,
     "metadata": {},
     "output_type": "execute_result"
    },
    {
     "data": {
      "image/png": "[encoded data removed]",
      "text/plain": [
       "<Figure size 640x480 with 1 Axes>"
      ]
     },
     "metadata": {},
     "output_type": "display_data"
    }
   ],
   "source": [
    "sns.distplot(pd.DataFrame(ex))"
   ]
  },
  {
   "cell_type": "code",
   "execution_count": null,
   "id": "a33ad8c6-1bad-4de5-8ff3-eb2247f0ff50",
   "metadata": {},
   "outputs": [],
   "source": []
  }
 ],
 "metadata": {
  "kernelspec": {
   "display_name": "Python 3 (ipykernel)",
   "language": "python",
   "name": "python3"
  },
  "language_info": {
   "codemirror_mode": {
    "name": "ipython",
    "version": 3
   },
   "file_extension": ".py",
   "mimetype": "text/x-python",
   "name": "python",
   "nbconvert_exporter": "python",
   "pygments_lexer": "ipython3",
   "version": "3.11.7"
  }
 },
 "nbformat": 4,
 "nbformat_minor": 5
}
